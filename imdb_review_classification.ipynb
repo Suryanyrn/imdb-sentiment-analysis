{
  "cells": [
    {
      "cell_type": "markdown",
      "metadata": {
        "id": "7fIDZ-di69_o"
      },
      "source": [
        "# **Importing Libraries**"
      ]
    },
    {
      "cell_type": "code",
      "execution_count": null,
      "metadata": {
        "colab": {
          "base_uri": "https://localhost:8080/"
        },
        "collapsed": true,
        "id": "yCnWc4oQ8heA",
        "outputId": "e45d12a8-17a2-4c31-e76c-25a7a5a416b5"
      },
      "outputs": [
        {
          "output_type": "stream",
          "name": "stdout",
          "text": [
            "Requirement already satisfied: datasets in /usr/local/lib/python3.11/dist-packages (3.2.0)\n",
            "Requirement already satisfied: filelock in /usr/local/lib/python3.11/dist-packages (from datasets) (3.17.0)\n",
            "Requirement already satisfied: numpy>=1.17 in /usr/local/lib/python3.11/dist-packages (from datasets) (1.26.4)\n",
            "Requirement already satisfied: pyarrow>=15.0.0 in /usr/local/lib/python3.11/dist-packages (from datasets) (17.0.0)\n",
            "Requirement already satisfied: dill<0.3.9,>=0.3.0 in /usr/local/lib/python3.11/dist-packages (from datasets) (0.3.8)\n",
            "Requirement already satisfied: pandas in /usr/local/lib/python3.11/dist-packages (from datasets) (2.2.2)\n",
            "Requirement already satisfied: requests>=2.32.2 in /usr/local/lib/python3.11/dist-packages (from datasets) (2.32.3)\n",
            "Requirement already satisfied: tqdm>=4.66.3 in /usr/local/lib/python3.11/dist-packages (from datasets) (4.67.1)\n",
            "Requirement already satisfied: xxhash in /usr/local/lib/python3.11/dist-packages (from datasets) (3.5.0)\n",
            "Requirement already satisfied: multiprocess<0.70.17 in /usr/local/lib/python3.11/dist-packages (from datasets) (0.70.16)\n",
            "Requirement already satisfied: fsspec<=2024.9.0,>=2023.1.0 in /usr/local/lib/python3.11/dist-packages (from fsspec[http]<=2024.9.0,>=2023.1.0->datasets) (2024.9.0)\n",
            "Requirement already satisfied: aiohttp in /usr/local/lib/python3.11/dist-packages (from datasets) (3.11.11)\n",
            "Requirement already satisfied: huggingface-hub>=0.23.0 in /usr/local/lib/python3.11/dist-packages (from datasets) (0.28.1)\n",
            "Requirement already satisfied: packaging in /usr/local/lib/python3.11/dist-packages (from datasets) (24.2)\n",
            "Requirement already satisfied: pyyaml>=5.1 in /usr/local/lib/python3.11/dist-packages (from datasets) (6.0.2)\n",
            "Requirement already satisfied: aiohappyeyeballs>=2.3.0 in /usr/local/lib/python3.11/dist-packages (from aiohttp->datasets) (2.4.4)\n",
            "Requirement already satisfied: aiosignal>=1.1.2 in /usr/local/lib/python3.11/dist-packages (from aiohttp->datasets) (1.3.2)\n",
            "Requirement already satisfied: attrs>=17.3.0 in /usr/local/lib/python3.11/dist-packages (from aiohttp->datasets) (25.1.0)\n",
            "Requirement already satisfied: frozenlist>=1.1.1 in /usr/local/lib/python3.11/dist-packages (from aiohttp->datasets) (1.5.0)\n",
            "Requirement already satisfied: multidict<7.0,>=4.5 in /usr/local/lib/python3.11/dist-packages (from aiohttp->datasets) (6.1.0)\n",
            "Requirement already satisfied: propcache>=0.2.0 in /usr/local/lib/python3.11/dist-packages (from aiohttp->datasets) (0.2.1)\n",
            "Requirement already satisfied: yarl<2.0,>=1.17.0 in /usr/local/lib/python3.11/dist-packages (from aiohttp->datasets) (1.18.3)\n",
            "Requirement already satisfied: typing-extensions>=3.7.4.3 in /usr/local/lib/python3.11/dist-packages (from huggingface-hub>=0.23.0->datasets) (4.12.2)\n",
            "Requirement already satisfied: charset-normalizer<4,>=2 in /usr/local/lib/python3.11/dist-packages (from requests>=2.32.2->datasets) (3.4.1)\n",
            "Requirement already satisfied: idna<4,>=2.5 in /usr/local/lib/python3.11/dist-packages (from requests>=2.32.2->datasets) (3.10)\n",
            "Requirement already satisfied: urllib3<3,>=1.21.1 in /usr/local/lib/python3.11/dist-packages (from requests>=2.32.2->datasets) (2.3.0)\n",
            "Requirement already satisfied: certifi>=2017.4.17 in /usr/local/lib/python3.11/dist-packages (from requests>=2.32.2->datasets) (2025.1.31)\n",
            "Requirement already satisfied: python-dateutil>=2.8.2 in /usr/local/lib/python3.11/dist-packages (from pandas->datasets) (2.8.2)\n",
            "Requirement already satisfied: pytz>=2020.1 in /usr/local/lib/python3.11/dist-packages (from pandas->datasets) (2025.1)\n",
            "Requirement already satisfied: tzdata>=2022.7 in /usr/local/lib/python3.11/dist-packages (from pandas->datasets) (2025.1)\n",
            "Requirement already satisfied: six>=1.5 in /usr/local/lib/python3.11/dist-packages (from python-dateutil>=2.8.2->pandas->datasets) (1.17.0)\n"
          ]
        }
      ],
      "source": [
        "!pip install datasets"
      ]
    },
    {
      "cell_type": "code",
      "execution_count": null,
      "metadata": {
        "colab": {
          "base_uri": "https://localhost:8080/"
        },
        "id": "zdF73nLLLpyY",
        "outputId": "ee5ff9b1-bc5a-476e-f063-e867a56d469f",
        "collapsed": true
      },
      "outputs": [
        {
          "output_type": "stream",
          "name": "stderr",
          "text": [
            "[nltk_data] Downloading package stopwords to /root/nltk_data...\n",
            "[nltk_data]   Package stopwords is already up-to-date!\n",
            "[nltk_data] Downloading package wordnet to /root/nltk_data...\n",
            "[nltk_data]   Package wordnet is already up-to-date!\n"
          ]
        },
        {
          "output_type": "execute_result",
          "data": {
            "text/plain": [
              "True"
            ]
          },
          "metadata": {},
          "execution_count": 3
        }
      ],
      "source": [
        "import re\n",
        "import nltk\n",
        "from datasets import load_dataset\n",
        "from nltk.corpus import stopwords\n",
        "from nltk.stem import WordNetLemmatizer\n",
        "nltk.download('stopwords')\n",
        "nltk.download('wordnet')"
      ]
    },
    {
      "cell_type": "markdown",
      "metadata": {
        "id": "RABjPaflYkNo"
      },
      "source": [
        "**loading the IMDB dataset**"
      ]
    },
    {
      "cell_type": "code",
      "execution_count": null,
      "metadata": {
        "colab": {
          "base_uri": "https://localhost:8080/"
        },
        "id": "VBvbe0zlL-cO",
        "outputId": "b44e0397-4572-4e5d-f51a-495482a2fc0d"
      },
      "outputs": [
        {
          "output_type": "stream",
          "name": "stderr",
          "text": [
            "/usr/local/lib/python3.11/dist-packages/huggingface_hub/utils/_auth.py:94: UserWarning: \n",
            "The secret `HF_TOKEN` does not exist in your Colab secrets.\n",
            "To authenticate with the Hugging Face Hub, create a token in your settings tab (https://huggingface.co/settings/tokens), set it as secret in your Google Colab and restart your session.\n",
            "You will be able to reuse this secret in all of your notebooks.\n",
            "Please note that authentication is recommended but still optional to access public models or datasets.\n",
            "  warnings.warn(\n"
          ]
        }
      ],
      "source": [
        "data = load_dataset('imdb')\n",
        "train_data = data['train']\n",
        "test_data = data['test']"
      ]
    },
    {
      "cell_type": "code",
      "execution_count": null,
      "metadata": {
        "id": "0pqDo-OlMhJq"
      },
      "outputs": [],
      "source": [
        "train = [x['text'] for x in train_data]\n",
        "test = [x['text'] for x in test_data]\n",
        "review = train + test\n",
        "sentiment = [x['label'] for x in train_data] + [x['label'] for x in test_data]"
      ]
    },
    {
      "cell_type": "markdown",
      "metadata": {
        "id": "wgxi_4fhYqvz"
      },
      "source": [
        "# **Preprocessing the imdb data in a single function**"
      ]
    },
    {
      "cell_type": "code",
      "execution_count": null,
      "metadata": {
        "id": "LlF9CUDmM-9n"
      },
      "outputs": [],
      "source": [
        "stopwords_list = set(stopwords.words('english'))\n",
        "\n",
        "tag_re = re.compile(r\"<[^>]+>\")\n",
        "\n",
        "def remove_tags(text):\n",
        "    return tag_re.sub('', text)\n",
        "\n",
        "def preprocess(text):\n",
        "    text = text.lower()\n",
        "\n",
        "    # Remove HTML tags\n",
        "    text = remove_tags(text)\n",
        "\n",
        "    # Remove punctuation and numbers\n",
        "    text = re.sub(r'[^a-zA-Z\\s]', '', text)\n",
        "\n",
        "    # Remove single characters\n",
        "    text = re.sub(r\"\\b[a-zA-Z]\\b\", '', text)\n",
        "\n",
        "    # Remove multiple spaces\n",
        "    text = re.sub(r'\\s+', ' ', text).strip()\n",
        "\n",
        "    # Tokenize and remove stopwords\n",
        "    words = text.split()\n",
        "    words = [word for word in words if word not in stopwords_list]\n",
        "\n",
        "    return ' '.join(words)"
      ]
    },
    {
      "cell_type": "markdown",
      "metadata": {
        "id": "3ht2OPpvYz75"
      },
      "source": [
        "**Applying the preprocess function at imdb text data**"
      ]
    },
    {
      "cell_type": "code",
      "execution_count": null,
      "metadata": {
        "id": "crzyAP5UPAb1"
      },
      "outputs": [],
      "source": [
        "x = []\n",
        "for i in review:\n",
        "  x.append(preprocess(i))"
      ]
    },
    {
      "cell_type": "markdown",
      "metadata": {
        "id": "mKJWJSnRY9EC"
      },
      "source": [
        "# **Lemmatizing the text**"
      ]
    },
    {
      "cell_type": "code",
      "execution_count": null,
      "metadata": {
        "colab": {
          "base_uri": "https://localhost:8080/"
        },
        "id": "_Ve7zmqdRX3u",
        "outputId": "6213ad5a-75bb-4eca-a4ab-c1ad0163ccfe"
      },
      "outputs": [
        {
          "output_type": "stream",
          "name": "stderr",
          "text": [
            "[nltk_data] Downloading package punkt to /root/nltk_data...\n",
            "[nltk_data]   Package punkt is already up-to-date!\n",
            "[nltk_data] Downloading package punkt_tab to /root/nltk_data...\n",
            "[nltk_data]   Package punkt_tab is already up-to-date!\n"
          ]
        },
        {
          "output_type": "execute_result",
          "data": {
            "text/plain": [
              "True"
            ]
          },
          "metadata": {},
          "execution_count": 8
        }
      ],
      "source": [
        "nltk.download('punkt')\n",
        "nltk.download('punkt_tab')"
      ]
    },
    {
      "cell_type": "code",
      "execution_count": null,
      "metadata": {
        "id": "w2U1KQR-PS9m"
      },
      "outputs": [],
      "source": [
        "from nltk.tokenize import word_tokenize\n",
        "lematizer = WordNetLemmatizer()\n",
        "def lematize(text):\n",
        "  token = word_tokenize(text)\n",
        "  lematized = [lematizer.lemmatize(word) for word in token]\n",
        "  return ' '.join(lematized)"
      ]
    },
    {
      "cell_type": "code",
      "execution_count": null,
      "metadata": {
        "id": "ItKsE6tiRHHi"
      },
      "outputs": [],
      "source": [
        "x_lematized = []\n",
        "for i in x:\n",
        "  x_lematized.append(lematize(i))"
      ]
    },
    {
      "cell_type": "markdown",
      "metadata": {
        "id": "0M9juv2MZGcx"
      },
      "source": [
        "**Using Term Frequency-Inverse Document Frequency (TF-IDF) converting the text into data**"
      ]
    },
    {
      "cell_type": "code",
      "execution_count": null,
      "metadata": {
        "id": "-DvVNu90QhDR"
      },
      "outputs": [],
      "source": [
        "from sklearn.feature_extraction.text import TfidfVectorizer\n",
        "vectorizer = TfidfVectorizer()\n",
        "x = vectorizer.fit_transform(x_lematized)"
      ]
    },
    {
      "cell_type": "code",
      "execution_count": null,
      "metadata": {
        "colab": {
          "base_uri": "https://localhost:8080/"
        },
        "collapsed": true,
        "id": "rlEQ82VzPLZj",
        "outputId": "be341658-7906-4a15-88f9-3d1de0b326f9"
      },
      "outputs": [
        {
          "output_type": "stream",
          "name": "stdout",
          "text": [
            "  (0, 147352)\t0.06887165744892833\n",
            "  (0, 40261)\t0.43163979086357285\n",
            "  (0, 191879)\t0.05103366923832112\n",
            "  (0, 170093)\t0.06341512274416986\n",
            "  (0, 36485)\t0.0915987965354543\n",
            "  (0, 173807)\t0.08213501373585433\n",
            "  (0, 64729)\t0.06237970433627787\n",
            "  (0, 146763)\t0.05638557253809167\n",
            "  (0, 5489)\t0.03089083548910607\n",
            "  (0, 79493)\t0.05438797765084294\n",
            "  (0, 157091)\t0.1178250011423481\n",
            "  (0, 40410)\t0.09316446837947953\n",
            "  (0, 57540)\t0.034517189411346454\n",
            "  (0, 184650)\t0.058776008635458406\n",
            "  (0, 55739)\t0.07623589830465599\n",
            "  (0, 37765)\t0.05643781951133665\n",
            "  (0, 178763)\t0.06949279056901347\n",
            "  (0, 60877)\t0.042142107624914556\n",
            "  (0, 63298)\t0.08036879938586203\n",
            "  (0, 35913)\t0.13075712669574147\n",
            "  (0, 36480)\t0.07984120637884981\n",
            "  (0, 145020)\t0.08560638910590448\n",
            "  (0, 156655)\t0.02731785790963409\n",
            "  (0, 119242)\t0.12967365581816623\n",
            "  (0, 136334)\t0.067683669217308\n",
            "  :\t:\n",
            "  (0, 93972)\t0.04926885352501424\n",
            "  (0, 66583)\t0.07789364112799925\n",
            "  (0, 63981)\t0.10843783114239668\n",
            "  (0, 34260)\t0.10514179186104686\n",
            "  (0, 63702)\t0.0577513117746401\n",
            "  (0, 60200)\t0.04032934215926248\n",
            "  (0, 161015)\t0.16864612571019838\n",
            "  (0, 10043)\t0.07096975550078184\n",
            "  (0, 142283)\t0.06408650662578659\n",
            "  (0, 144348)\t0.04457272159983056\n",
            "  (0, 160335)\t0.06765876895348774\n",
            "  (0, 132950)\t0.031173940872558686\n",
            "  (0, 106927)\t0.02721520154008167\n",
            "  (0, 115100)\t0.04680072599949553\n",
            "  (0, 177973)\t0.056832693194287555\n",
            "  (0, 6021)\t0.061510050904365225\n",
            "  (0, 8152)\t0.04393441450889052\n",
            "  (0, 193896)\t0.07018851918631755\n",
            "  (0, 171385)\t0.07087804512851895\n",
            "  (0, 110544)\t0.08202634832087005\n",
            "  (0, 138377)\t0.09906412403620324\n",
            "  (0, 142033)\t0.08303886509649856\n",
            "  (0, 89737)\t0.06749945143572338\n",
            "  (0, 48508)\t0.03815740004393031\n",
            "  (0, 117974)\t0.029549270663159502\n",
            "________________________________________________________________________________________________________________________________________________________________________________________________________________________________________________________________________________________________________________________________________________________________________________________________________________________________________________________________________________________________________________________________________________________________________________________________________________________________________________________________________________________________________________________________________________________________________________________________________________________________________________________________________________________________________________________________________________________________________________________________________________________________________\n",
            "  (0, 63298)\t0.08513684400731672\n",
            "  (0, 156655)\t0.028938546117881825\n",
            "  (0, 137177)\t0.06883672144260626\n",
            "  (0, 124362)\t0.20524142527361822\n",
            "  (0, 102383)\t0.024313036935220658\n",
            "  (0, 60200)\t0.04272196348045525\n",
            "  (0, 48508)\t0.04042116642389894\n",
            "  (0, 40251)\t0.07847039760796505\n",
            "  (0, 201752)\t0.09054985972707288\n",
            "  (0, 149787)\t0.11676354995020442\n",
            "  (0, 139662)\t0.1579509205410756\n",
            "  (0, 169171)\t0.10205693363713937\n",
            "  (0, 135078)\t0.08032613706023037\n",
            "  (0, 109451)\t0.1096898641613017\n",
            "  (0, 126683)\t0.043176648663721166\n",
            "  (0, 192052)\t0.1175860925388947\n",
            "  (0, 78388)\t0.06670979232906654\n",
            "  (0, 175210)\t0.05867565274599523\n",
            "  (0, 158485)\t0.06013109150298396\n",
            "  (0, 101570)\t0.05835791366718641\n",
            "  (0, 31655)\t0.0721527814613574\n",
            "  (0, 68568)\t0.1012162850602588\n",
            "  (0, 107140)\t0.12987644582969418\n",
            "  (0, 11808)\t0.10391087635895485\n",
            "  (0, 120301)\t0.10917045020455438\n",
            "  :\t:\n",
            "  (0, 123461)\t0.05870490694383008\n",
            "  (0, 152630)\t0.04917708110030214\n",
            "  (0, 107378)\t0.03962567403695711\n",
            "  (0, 70956)\t0.0704290698675037\n",
            "  (0, 199222)\t0.055140850849412004\n",
            "  (0, 62500)\t0.05988151277372357\n",
            "  (0, 6048)\t0.05037861780886067\n",
            "  (0, 8200)\t0.045372124646287273\n",
            "  (0, 160577)\t0.05158212596001025\n",
            "  (0, 137757)\t0.07711419292172494\n",
            "  (0, 59270)\t0.08879576948375122\n",
            "  (0, 56609)\t0.11626537603453564\n",
            "  (0, 4762)\t0.10089395788455854\n",
            "  (0, 101325)\t0.05159519059898805\n",
            "  (0, 49502)\t0.0752780276999127\n",
            "  (0, 168443)\t0.06312495049091366\n",
            "  (0, 2375)\t0.08778061825491086\n",
            "  (0, 44159)\t0.08075875005372948\n",
            "  (0, 245)\t0.06696163027428564\n",
            "  (0, 33827)\t0.037466619159261194\n",
            "  (0, 177169)\t0.06630858607798093\n",
            "  (0, 40102)\t0.11532029285069244\n",
            "  (0, 89245)\t0.06578310844003776\n",
            "  (0, 199092)\t0.09230435901448228\n",
            "  (0, 19813)\t0.058690272035461656\n",
            "________________________________________________________________________________________________________________________________________________________________________________________________________________________________________________________________________________________________________________________________________________________________________________________________________________________________________________________________________________________________________________________________________________________________________________________________________________________________________________________________________________________________________________________________________________________________________________________________________________________________________________________________________________________________________________________________________________________________________________________________________________________________________\n",
            "  (0, 63298)\t0.08615608483761376\n",
            "  (0, 107032)\t0.09483767098381032\n",
            "  (0, 91392)\t0.1310831430749965\n",
            "  (0, 113089)\t0.10138062517821445\n",
            "  (0, 126683)\t0.17477420257465548\n",
            "  (0, 33827)\t0.15166064734964607\n",
            "  (0, 12011)\t0.1293833653494592\n",
            "  (0, 186448)\t0.11443813203782555\n",
            "  (0, 69451)\t0.12685555675691662\n",
            "  (0, 89924)\t0.0911285564928967\n",
            "  (0, 59142)\t0.16264748859824596\n",
            "  (0, 176802)\t0.09588040410904411\n",
            "  (0, 33203)\t0.25658635232109117\n",
            "  (0, 170403)\t0.25082964817298414\n",
            "  (0, 112691)\t0.18551711704079898\n",
            "  (0, 62276)\t0.08747221517375679\n",
            "  (0, 192638)\t0.24464309771399126\n",
            "  (0, 162638)\t0.14036558592812254\n",
            "  (0, 180520)\t0.19010582885008656\n",
            "  (0, 183153)\t0.13119871027729127\n",
            "  (0, 108029)\t0.07222703866630824\n",
            "  (0, 87309)\t0.12294630331883344\n",
            "  (0, 198658)\t0.08933209265357223\n",
            "  (0, 47120)\t0.2737489244695798\n",
            "  (0, 116524)\t0.19590731017888718\n",
            "  (0, 192070)\t0.10365183538927897\n",
            "  (0, 12136)\t0.09368269703836701\n",
            "  (0, 121208)\t0.08628290228830819\n",
            "  (0, 133887)\t0.1561886350445823\n",
            "  (0, 188726)\t0.1306256321700777\n",
            "  (0, 193824)\t0.1963894881007815\n",
            "  (0, 90504)\t0.21815199037975472\n",
            "  (0, 136863)\t0.14059217413834996\n",
            "  (0, 63831)\t0.24329041326149856\n",
            "  (0, 17257)\t0.07518402044287502\n",
            "  (0, 167016)\t0.13813652178547775\n",
            "  (0, 180892)\t0.054039101505245324\n",
            "  (0, 168659)\t0.18311672040207488\n",
            "  (0, 198118)\t0.15090660373408504\n",
            "  (0, 184361)\t0.1609709356598738\n",
            "  (0, 75660)\t0.15468964665528712\n",
            "________________________________________________________________________________________________________________________________________________________________________________________________________________________________________________________________________________________________________________________________________________________________________________________________________________________________________________________________________________________________________________________________________________________________________________________________________________________________________________________________________________________________________________________________________________________________________________________________________________________________________________________________________________________________________________________________________________________________________________________________________________________________________\n",
            "  (0, 63298)\t0.13632496866342353\n",
            "  (0, 156655)\t0.0463377100558982\n",
            "  (0, 174310)\t0.1490636631080756\n",
            "  (0, 101101)\t0.16873315713891096\n",
            "  (0, 124362)\t0.10954728705728471\n",
            "  (0, 61210)\t0.07290135844149186\n",
            "  (0, 73463)\t0.04368138912209894\n",
            "  (0, 116803)\t0.03175527947190723\n",
            "  (0, 45893)\t0.11097401082838727\n",
            "  (0, 1883)\t0.08843001144147387\n",
            "  (0, 198658)\t0.07067518652100799\n",
            "  (0, 180892)\t0.04275309650610958\n",
            "  (0, 140144)\t0.07336772596487927\n",
            "  (0, 89384)\t0.11916724575970204\n",
            "  (0, 72936)\t0.33890475755299193\n",
            "  (0, 108850)\t0.24405524454354605\n",
            "  (0, 65983)\t0.24405524454354605\n",
            "  (0, 190005)\t0.13978859631821824\n",
            "  (0, 89492)\t0.1958606731003061\n",
            "  (0, 186230)\t0.05857282137166508\n",
            "  (0, 171124)\t0.09475224325039909\n",
            "  (0, 53634)\t0.09401268093073094\n",
            "  (0, 144881)\t0.10246501678523447\n",
            "  (0, 1296)\t0.05636158172115976\n",
            "  (0, 87439)\t0.111152650632603\n",
            "  :\t:\n",
            "  (0, 8431)\t0.10638149640189945\n",
            "  (0, 171003)\t0.12677021207031985\n",
            "  (0, 54903)\t0.12589989251224679\n",
            "  (0, 170814)\t0.15891588022864692\n",
            "  (0, 161891)\t0.15215812266085926\n",
            "  (0, 124674)\t0.2199579588219261\n",
            "  (0, 7328)\t0.09709292742957873\n",
            "  (0, 199763)\t0.07044567459696914\n",
            "  (0, 1245)\t0.08610264006738046\n",
            "  (0, 171556)\t0.0862833054406347\n",
            "  (0, 63644)\t0.18616938329528723\n",
            "  (0, 187168)\t0.16007669577938652\n",
            "  (0, 34619)\t0.14428491521459272\n",
            "  (0, 89679)\t0.22885155000146337\n",
            "  (0, 147515)\t0.1351221882079165\n",
            "  (0, 171596)\t0.13308031543286525\n",
            "  (0, 73185)\t0.06608966912704806\n",
            "  (0, 171867)\t0.09944146263582249\n",
            "  (0, 200197)\t0.047096692145315304\n",
            "  (0, 153913)\t0.05728932448325832\n",
            "  (0, 66225)\t0.1083876991562619\n",
            "  (0, 86142)\t0.13489409989903617\n",
            "  (0, 68047)\t0.10477219373491792\n",
            "  (0, 164818)\t0.24405524454354605\n",
            "  (0, 135557)\t0.07447523254702139\n",
            "________________________________________________________________________________________________________________________________________________________________________________________________________________________________________________________________________________________________________________________________________________________________________________________________________________________________________________________________________________________________________________________________________________________________________________________________________________________________________________________________________________________________________________________________________________________________________________________________________________________________________________________________________________________________________________________________________________________________________________________________________________________________________\n",
            "  (0, 191879)\t0.04713510749684321\n",
            "  (0, 63298)\t0.16701585685907608\n",
            "  (0, 156655)\t0.12615496674763996\n",
            "  (0, 202221)\t0.03891136177496558\n",
            "  (0, 193876)\t0.03402621249427862\n",
            "  (0, 174305)\t0.10424993696859067\n",
            "  (0, 137177)\t0.12003497714409965\n",
            "  (0, 158891)\t0.1459217470024887\n",
            "  (0, 201472)\t0.09611588932181335\n",
            "  (0, 154403)\t0.02812976924069538\n",
            "  (0, 102383)\t0.021198095810360015\n",
            "  (0, 137780)\t0.07881896042510751\n",
            "  (0, 64373)\t0.033949066122801186\n",
            "  (0, 126277)\t0.07382289008145121\n",
            "  (0, 132950)\t0.028792502597969713\n",
            "  (0, 177973)\t0.05249113267827379\n",
            "  (0, 40251)\t0.13683383208791985\n",
            "  (0, 12011)\t0.05573624162054103\n",
            "  (0, 121208)\t0.03716926574504795\n",
            "  (0, 180892)\t0.023279162744902934\n",
            "  (0, 73185)\t0.03598598204800158\n",
            "  (0, 200197)\t0.02564426090261581\n",
            "  (0, 125965)\t0.049298079089502386\n",
            "  (0, 22904)\t0.13288866119122852\n",
            "  (0, 79513)\t0.06931448572317732\n",
            "  :\t:\n",
            "  (0, 147435)\t0.07127264165960033\n",
            "  (0, 54906)\t0.08491989165878\n",
            "  (0, 181645)\t0.12461021334784582\n",
            "  (0, 100188)\t0.11053321183039842\n",
            "  (0, 70639)\t0.061496308068638636\n",
            "  (0, 18544)\t0.0458635756417923\n",
            "  (0, 18912)\t0.09309122420434554\n",
            "  (0, 57004)\t0.05181282699657876\n",
            "  (0, 57749)\t0.03630859696910606\n",
            "  (0, 176932)\t0.05417067917314616\n",
            "  (0, 149769)\t0.06640720215624073\n",
            "  (0, 42107)\t0.046892001898340904\n",
            "  (0, 192064)\t0.06922741406911388\n",
            "  (0, 70981)\t0.06437519695681909\n",
            "  (0, 172383)\t0.08350122714578127\n",
            "  (0, 120148)\t0.08677890204248816\n",
            "  (0, 148847)\t0.10964811989111094\n",
            "  (0, 88422)\t0.13288866119122852\n",
            "  (0, 135722)\t0.13288866119122852\n",
            "  (0, 119009)\t0.03861801133272963\n",
            "  (0, 147322)\t0.055377225956624754\n",
            "  (0, 61563)\t0.05612567914530473\n",
            "  (0, 67220)\t0.056965552409426766\n",
            "  (0, 46785)\t0.06645296188903883\n",
            "  (0, 131508)\t0.034311869581899974\n",
            "________________________________________________________________________________________________________________________________________________________________________________________________________________________________________________________________________________________________________________________________________________________________________________________________________________________________________________________________________________________________________________________________________________________________________________________________________________________________________________________________________________________________________________________________________________________________________________________________________________________________________________________________________________________________________________________________________________________________________________________________________________________________________\n"
          ]
        }
      ],
      "source": [
        "for i in range(5):\n",
        "  print(x[i])\n",
        "  print('_'*1000)"
      ]
    },
    {
      "cell_type": "code",
      "execution_count": null,
      "metadata": {
        "id": "RyzX4GXFSMA4"
      },
      "outputs": [],
      "source": [
        "y=sentiment"
      ]
    },
    {
      "cell_type": "markdown",
      "metadata": {
        "id": "vxddKBVwZTxU"
      },
      "source": [
        "**Splitting the processed data into train test split for model training**"
      ]
    },
    {
      "cell_type": "code",
      "execution_count": null,
      "metadata": {
        "id": "kn38OlokRzN0"
      },
      "outputs": [],
      "source": [
        "from sklearn.model_selection import train_test_split\n",
        "x_train, x_test, y_train, y_test = train_test_split(x, y, test_size=0.2, random_state=42)"
      ]
    },
    {
      "cell_type": "code",
      "execution_count": null,
      "metadata": {
        "id": "5E_gaVzQSf-b"
      },
      "outputs": [],
      "source": [
        "from sklearn.metrics import accuracy_score, precision_score, recall_score, f1_score"
      ]
    },
    {
      "cell_type": "markdown",
      "metadata": {
        "id": "HJGUCj-0Zdoy"
      },
      "source": [
        "**Training the model using LogisticRegression model**"
      ]
    },
    {
      "cell_type": "code",
      "execution_count": null,
      "metadata": {
        "colab": {
          "base_uri": "https://localhost:8080/"
        },
        "id": "JCBj49maSlMf",
        "outputId": "4904085d-3463-4583-c9b6-332fef536502"
      },
      "outputs": [
        {
          "output_type": "stream",
          "name": "stdout",
          "text": [
            "Accuracy:  0.8912\n",
            "Precision:  0.880449792858552\n",
            "Recall:  0.9025278058645096\n",
            "F1 Score:  0.8913521070501298\n"
          ]
        }
      ],
      "source": [
        "from sklearn.linear_model import LogisticRegression\n",
        "lr=LogisticRegression()\n",
        "lr.fit(x_train,y_train)\n",
        "y_pred=lr.predict(x_test)\n",
        "print(\"Accuracy: \",accuracy_score(y_test,y_pred))\n",
        "print(\"Precision: \",precision_score(y_test,y_pred))\n",
        "print(\"Recall: \",recall_score(y_test,y_pred))\n",
        "print(\"F1 Score: \",f1_score(y_test,y_pred))"
      ]
    },
    {
      "cell_type": "markdown",
      "metadata": {
        "id": "Wj0Z_6AbZk07"
      },
      "source": [
        "**Tuning Hyperparameters of logisticregression model**"
      ]
    },
    {
      "cell_type": "code",
      "execution_count": null,
      "metadata": {
        "colab": {
          "base_uri": "https://localhost:8080/"
        },
        "id": "jBAnfDssTMqp",
        "outputId": "04c00ff0-d523-43ed-ed71-a5ffae79e941"
      },
      "outputs": [
        {
          "output_type": "stream",
          "name": "stdout",
          "text": [
            "Fitting 3 folds for each of 10 candidates, totalling 30 fits\n",
            "Best Parameters: {'max_iter': 200, 'C': 10}\n",
            "Accuracy: 0.8945\n",
            "Precision: 0.8947\n",
            "Recall: 0.8945\n"
          ]
        }
      ],
      "source": [
        "from sklearn.model_selection import RandomizedSearchCV\n",
        "param_grid = {\n",
        "    \"C\": [0.01, 0.1, 1, 10],\n",
        "    \"max_iter\": [100, 200, 300]\n",
        "}\n",
        "random = RandomizedSearchCV(lr, param_grid, cv=3, scoring='accuracy', n_jobs=-1, verbose=1)\n",
        "random.fit(x_train,y_train)\n",
        "\n",
        "best_model = random.best_estimator_\n",
        "y_pred = best_model.predict(x_test)\n",
        "# Evaluate the model\n",
        "acc = accuracy_score(y_test, y_pred)\n",
        "precision = precision_score(y_test, y_pred, average='weighted')\n",
        "recall = recall_score(y_test, y_pred, average='weighted')\n",
        "\n",
        "\n",
        "print(f\"Best Parameters: {random.best_params_}\")\n",
        "print(f\"Accuracy: {acc:.4f}\")\n",
        "print(f\"Precision: {precision:.4f}\")\n",
        "print(f\"Recall: {recall:.4f}\")"
      ]
    },
    {
      "cell_type": "markdown",
      "metadata": {
        "id": "yXHuOG36aEoh"
      },
      "source": [
        "**Training the model using naive bayes**"
      ]
    },
    {
      "cell_type": "code",
      "execution_count": null,
      "metadata": {
        "colab": {
          "base_uri": "https://localhost:8080/"
        },
        "id": "RpSigLJQSnmK",
        "outputId": "2dce812a-ad04-42e2-8c0e-ad1ba0bff777"
      },
      "outputs": [
        {
          "output_type": "stream",
          "name": "stdout",
          "text": [
            "Accuracy:  0.8672\n",
            "Precision:  0.8741982205669356\n",
            "Recall:  0.8543983822042467\n",
            "F1 Score:  0.8641849048885253\n"
          ]
        }
      ],
      "source": [
        "from sklearn.naive_bayes import MultinomialNB\n",
        "nb=MultinomialNB()\n",
        "nb.fit(x_train,y_train)\n",
        "y_pred=nb.predict(x_test)\n",
        "print(\"Accuracy: \",accuracy_score(y_test,y_pred))\n",
        "print(\"Precision: \",precision_score(y_test,y_pred))\n",
        "print(\"Recall: \",recall_score(y_test,y_pred))\n",
        "print(\"F1 Score: \",f1_score(y_test,y_pred))"
      ]
    },
    {
      "cell_type": "markdown",
      "metadata": {
        "id": "-76KZXc_Zzcw"
      },
      "source": [
        "**Tuning Hyperparameters of Naive bayes model**"
      ]
    },
    {
      "cell_type": "code",
      "execution_count": null,
      "metadata": {
        "colab": {
          "base_uri": "https://localhost:8080/"
        },
        "id": "qq-ZDQzSVC1g",
        "outputId": "9bca0b6e-e10b-48c0-dc04-445b915ee546"
      },
      "outputs": [
        {
          "output_type": "stream",
          "name": "stderr",
          "text": [
            "/usr/local/lib/python3.11/dist-packages/sklearn/model_selection/_search.py:317: UserWarning: The total space of parameters 3 is smaller than n_iter=10. Running 3 iterations. For exhaustive searches, use GridSearchCV.\n",
            "  warnings.warn(\n"
          ]
        },
        {
          "output_type": "stream",
          "name": "stdout",
          "text": [
            "Fitting 3 folds for each of 3 candidates, totalling 9 fits\n",
            "Best Parameters: {'alpha': 1.0}\n",
            "Accuracy: 0.8672\n",
            "Precision: 0.8674\n",
            "Recall: 0.8672\n"
          ]
        }
      ],
      "source": [
        "params={\n",
        "        \"alpha\": [0.1,1.0,10.0]\n",
        "    }\n",
        "random = RandomizedSearchCV(nb, params, cv=3, scoring='accuracy', n_jobs=-1, verbose=1)\n",
        "random.fit(x_train,y_train)\n",
        "\n",
        "best_model = random.best_estimator_\n",
        "y_pred = best_model.predict(x_test)\n",
        "# Evaluate the model\n",
        "acc = accuracy_score(y_test, y_pred)\n",
        "precision = precision_score(y_test, y_pred, average='weighted')\n",
        "recall = recall_score(y_test, y_pred, average='weighted')\n",
        "\n",
        "\n",
        "print(f\"Best Parameters: {random.best_params_}\")\n",
        "print(f\"Accuracy: {acc:.4f}\")\n",
        "print(f\"Precision: {precision:.4f}\")\n",
        "print(f\"Recall: {recall:.4f}\")"
      ]
    },
    {
      "cell_type": "markdown",
      "metadata": {
        "id": "KDHGirz5aLSw"
      },
      "source": [
        "**Traing the model using support vector machine**"
      ]
    },
    {
      "cell_type": "markdown",
      "source": [
        "here lots of data in x_train and y_train takes more time to train the support vector machine model so i reduced the train size for faster processing anyhow the accuracy of svc is as approximately equal to the other two models"
      ],
      "metadata": {
        "id": "7WNIf7I8PGVG"
      }
    },
    {
      "cell_type": "markdown",
      "source": [
        "**Verifying the samples are evenly distributed**"
      ],
      "metadata": {
        "id": "xEiM4spOPntN"
      }
    },
    {
      "cell_type": "code",
      "source": [
        "count=0\n",
        "for i in y_train_svc:\n",
        "  if i==1:\n",
        "    count+=1\n",
        "print(count)\n",
        "print(len(y_train_svc)-count)"
      ],
      "metadata": {
        "colab": {
          "base_uri": "https://localhost:8080/"
        },
        "id": "x_cEfZcZNJvm",
        "outputId": "5412deb1-c71d-4d3e-945a-24d15f34a38c"
      },
      "execution_count": null,
      "outputs": [
        {
          "output_type": "stream",
          "name": "stdout",
          "text": [
            "2026\n",
            "1974\n"
          ]
        }
      ]
    },
    {
      "cell_type": "code",
      "source": [
        "x_train_svc, x_test_svc, y_train_svc, y_test_svc = train_test_split(x_train, y_train, test_size=0.9, random_state=42)"
      ],
      "metadata": {
        "id": "aE9hWv_IOOtA"
      },
      "execution_count": null,
      "outputs": []
    },
    {
      "cell_type": "code",
      "execution_count": null,
      "metadata": {
        "id": "9GM1tBZmTLQY",
        "colab": {
          "base_uri": "https://localhost:8080/"
        },
        "outputId": "d31b0816-45dc-46b6-815b-983ee8976368"
      },
      "outputs": [
        {
          "output_type": "stream",
          "name": "stdout",
          "text": [
            "Accuracy:  0.8551\n",
            "Precision:  0.8246656760772659\n",
            "Recall:  0.897876643073812\n",
            "F1 Score:  0.8597153645076968\n"
          ]
        }
      ],
      "source": [
        "from sklearn.svm import SVC\n",
        "svc=SVC()\n",
        "svc.fit(x_train_svc,y_train_svc)\n",
        "y_pred=svc.predict(x_test)\n",
        "print(\"Accuracy: \",accuracy_score(y_test,y_pred))\n",
        "print(\"Precision: \",precision_score(y_test,y_pred))\n",
        "print(\"Recall: \",recall_score(y_test,y_pred))\n",
        "print(\"F1 Score: \",f1_score(y_test,y_pred))"
      ]
    },
    {
      "cell_type": "markdown",
      "metadata": {
        "id": "jequsIpqZ6f6"
      },
      "source": [
        "**Tuning hyperparameters for Support vector machine model**"
      ]
    },
    {
      "cell_type": "code",
      "execution_count": null,
      "metadata": {
        "id": "D0D4nFveU9-T",
        "colab": {
          "base_uri": "https://localhost:8080/"
        },
        "outputId": "778ea3e0-287c-4822-ad81-76c700825acc"
      },
      "outputs": [
        {
          "output_type": "stream",
          "name": "stdout",
          "text": [
            "Fitting 3 folds for each of 10 candidates, totalling 30 fits\n",
            "Best Parameters: {'kernel': 'linear', 'gamma': 'scale', 'C': 1}\n",
            "Accuracy: 0.8574\n",
            "Precision: 0.8584\n",
            "Recall: 0.8574\n"
          ]
        }
      ],
      "source": [
        "from sklearn.model_selection import RandomizedSearchCV\n",
        "param_grids ={\n",
        "     \"C\": [0.1, 1, 10],\n",
        "      \"kernel\": ['linear', 'rbf'],\n",
        "      \"gamma\": ['scale', 'auto']\n",
        "    }\n",
        "random = RandomizedSearchCV(svc, param_grids, cv=3, scoring='accuracy', n_jobs=-1, verbose=1)\n",
        "random.fit(x_train_svc,y_train_svc)\n",
        "\n",
        "best_model = random.best_estimator_\n",
        "y_pred = best_model.predict(x_test)\n",
        "# Evaluate the model\n",
        "acc = accuracy_score(y_test, y_pred)\n",
        "precision = precision_score(y_test, y_pred, average='weighted')\n",
        "recall = recall_score(y_test, y_pred, average='weighted')\n",
        "\n",
        "\n",
        "print(f\"Best Parameters: {random.best_params_}\")\n",
        "print(f\"Accuracy: {acc:.4f}\")\n",
        "print(f\"Precision: {precision:.4f}\")\n",
        "print(f\"Recall: {recall:.4f}\")"
      ]
    }
  ],
  "metadata": {
    "accelerator": "GPU",
    "colab": {
      "gpuType": "T4",
      "provenance": []
    },
    "kernelspec": {
      "display_name": "Python 3",
      "name": "python3"
    },
    "language_info": {
      "name": "python"
    }
  },
  "nbformat": 4,
  "nbformat_minor": 0
}