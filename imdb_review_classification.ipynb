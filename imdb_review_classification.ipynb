{
  "cells": [
    {
      "cell_type": "markdown",
      "metadata": {
        "id": "7fIDZ-di69_o"
      },
      "source": [
        "# **Importing Libraries**"
      ]
    },
    {
      "cell_type": "code",
      "execution_count": 1,
      "metadata": {
        "colab": {
          "base_uri": "https://localhost:8080/"
        },
        "collapsed": true,
        "id": "yCnWc4oQ8heA",
        "outputId": "8dfec0d4-f80f-43a6-b2d8-a6234c1e6ec1"
      },
      "outputs": [
        {
          "output_type": "stream",
          "name": "stdout",
          "text": [
            "Collecting datasets\n",
            "  Downloading datasets-3.3.0-py3-none-any.whl.metadata (19 kB)\n",
            "Requirement already satisfied: filelock in /usr/local/lib/python3.11/dist-packages (from datasets) (3.17.0)\n",
            "Requirement already satisfied: numpy>=1.17 in /usr/local/lib/python3.11/dist-packages (from datasets) (1.26.4)\n",
            "Requirement already satisfied: pyarrow>=15.0.0 in /usr/local/lib/python3.11/dist-packages (from datasets) (17.0.0)\n",
            "Collecting dill<0.3.9,>=0.3.0 (from datasets)\n",
            "  Downloading dill-0.3.8-py3-none-any.whl.metadata (10 kB)\n",
            "Requirement already satisfied: pandas in /usr/local/lib/python3.11/dist-packages (from datasets) (2.2.2)\n",
            "Requirement already satisfied: requests>=2.32.2 in /usr/local/lib/python3.11/dist-packages (from datasets) (2.32.3)\n",
            "Requirement already satisfied: tqdm>=4.66.3 in /usr/local/lib/python3.11/dist-packages (from datasets) (4.67.1)\n",
            "Collecting xxhash (from datasets)\n",
            "  Downloading xxhash-3.5.0-cp311-cp311-manylinux_2_17_x86_64.manylinux2014_x86_64.whl.metadata (12 kB)\n",
            "Collecting multiprocess<0.70.17 (from datasets)\n",
            "  Downloading multiprocess-0.70.16-py311-none-any.whl.metadata (7.2 kB)\n",
            "Requirement already satisfied: fsspec<=2024.12.0,>=2023.1.0 in /usr/local/lib/python3.11/dist-packages (from fsspec[http]<=2024.12.0,>=2023.1.0->datasets) (2024.10.0)\n",
            "Requirement already satisfied: aiohttp in /usr/local/lib/python3.11/dist-packages (from datasets) (3.11.12)\n",
            "Requirement already satisfied: huggingface-hub>=0.24.0 in /usr/local/lib/python3.11/dist-packages (from datasets) (0.28.1)\n",
            "Requirement already satisfied: packaging in /usr/local/lib/python3.11/dist-packages (from datasets) (24.2)\n",
            "Requirement already satisfied: pyyaml>=5.1 in /usr/local/lib/python3.11/dist-packages (from datasets) (6.0.2)\n",
            "Requirement already satisfied: aiohappyeyeballs>=2.3.0 in /usr/local/lib/python3.11/dist-packages (from aiohttp->datasets) (2.4.6)\n",
            "Requirement already satisfied: aiosignal>=1.1.2 in /usr/local/lib/python3.11/dist-packages (from aiohttp->datasets) (1.3.2)\n",
            "Requirement already satisfied: attrs>=17.3.0 in /usr/local/lib/python3.11/dist-packages (from aiohttp->datasets) (25.1.0)\n",
            "Requirement already satisfied: frozenlist>=1.1.1 in /usr/local/lib/python3.11/dist-packages (from aiohttp->datasets) (1.5.0)\n",
            "Requirement already satisfied: multidict<7.0,>=4.5 in /usr/local/lib/python3.11/dist-packages (from aiohttp->datasets) (6.1.0)\n",
            "Requirement already satisfied: propcache>=0.2.0 in /usr/local/lib/python3.11/dist-packages (from aiohttp->datasets) (0.2.1)\n",
            "Requirement already satisfied: yarl<2.0,>=1.17.0 in /usr/local/lib/python3.11/dist-packages (from aiohttp->datasets) (1.18.3)\n",
            "Requirement already satisfied: typing-extensions>=3.7.4.3 in /usr/local/lib/python3.11/dist-packages (from huggingface-hub>=0.24.0->datasets) (4.12.2)\n",
            "Requirement already satisfied: charset-normalizer<4,>=2 in /usr/local/lib/python3.11/dist-packages (from requests>=2.32.2->datasets) (3.4.1)\n",
            "Requirement already satisfied: idna<4,>=2.5 in /usr/local/lib/python3.11/dist-packages (from requests>=2.32.2->datasets) (3.10)\n",
            "Requirement already satisfied: urllib3<3,>=1.21.1 in /usr/local/lib/python3.11/dist-packages (from requests>=2.32.2->datasets) (2.3.0)\n",
            "Requirement already satisfied: certifi>=2017.4.17 in /usr/local/lib/python3.11/dist-packages (from requests>=2.32.2->datasets) (2025.1.31)\n",
            "Requirement already satisfied: python-dateutil>=2.8.2 in /usr/local/lib/python3.11/dist-packages (from pandas->datasets) (2.8.2)\n",
            "Requirement already satisfied: pytz>=2020.1 in /usr/local/lib/python3.11/dist-packages (from pandas->datasets) (2025.1)\n",
            "Requirement already satisfied: tzdata>=2022.7 in /usr/local/lib/python3.11/dist-packages (from pandas->datasets) (2025.1)\n",
            "Requirement already satisfied: six>=1.5 in /usr/local/lib/python3.11/dist-packages (from python-dateutil>=2.8.2->pandas->datasets) (1.17.0)\n",
            "Downloading datasets-3.3.0-py3-none-any.whl (484 kB)\n",
            "\u001b[2K   \u001b[90m━━━━━━━━━━━━━━━━━━━━━━━━━━━━━━━━━━━━━━━━\u001b[0m \u001b[32m484.9/484.9 kB\u001b[0m \u001b[31m10.7 MB/s\u001b[0m eta \u001b[36m0:00:00\u001b[0m\n",
            "\u001b[?25hDownloading dill-0.3.8-py3-none-any.whl (116 kB)\n",
            "\u001b[2K   \u001b[90m━━━━━━━━━━━━━━━━━━━━━━━━━━━━━━━━━━━━━━━━\u001b[0m \u001b[32m116.3/116.3 kB\u001b[0m \u001b[31m9.8 MB/s\u001b[0m eta \u001b[36m0:00:00\u001b[0m\n",
            "\u001b[?25hDownloading multiprocess-0.70.16-py311-none-any.whl (143 kB)\n",
            "\u001b[2K   \u001b[90m━━━━━━━━━━━━━━━━━━━━━━━━━━━━━━━━━━━━━━━━\u001b[0m \u001b[32m143.5/143.5 kB\u001b[0m \u001b[31m12.4 MB/s\u001b[0m eta \u001b[36m0:00:00\u001b[0m\n",
            "\u001b[?25hDownloading xxhash-3.5.0-cp311-cp311-manylinux_2_17_x86_64.manylinux2014_x86_64.whl (194 kB)\n",
            "\u001b[2K   \u001b[90m━━━━━━━━━━━━━━━━━━━━━━━━━━━━━━━━━━━━━━━━\u001b[0m \u001b[32m194.8/194.8 kB\u001b[0m \u001b[31m15.8 MB/s\u001b[0m eta \u001b[36m0:00:00\u001b[0m\n",
            "\u001b[?25hInstalling collected packages: xxhash, dill, multiprocess, datasets\n",
            "Successfully installed datasets-3.3.0 dill-0.3.8 multiprocess-0.70.16 xxhash-3.5.0\n"
          ]
        }
      ],
      "source": [
        "!pip install datasets"
      ]
    },
    {
      "cell_type": "code",
      "execution_count": 2,
      "metadata": {
        "colab": {
          "base_uri": "https://localhost:8080/"
        },
        "id": "zdF73nLLLpyY",
        "outputId": "46a25837-3d1c-4d90-92a0-e46d69c6a244",
        "collapsed": true
      },
      "outputs": [
        {
          "output_type": "stream",
          "name": "stderr",
          "text": [
            "[nltk_data] Downloading package stopwords to /root/nltk_data...\n",
            "[nltk_data]   Unzipping corpora/stopwords.zip.\n",
            "[nltk_data] Downloading package wordnet to /root/nltk_data...\n",
            "[nltk_data] Downloading package punkt to /root/nltk_data...\n",
            "[nltk_data]   Unzipping tokenizers/punkt.zip.\n",
            "[nltk_data] Downloading package punkt_tab to /root/nltk_data...\n",
            "[nltk_data]   Unzipping tokenizers/punkt_tab.zip.\n"
          ]
        },
        {
          "output_type": "execute_result",
          "data": {
            "text/plain": [
              "True"
            ]
          },
          "metadata": {},
          "execution_count": 2
        }
      ],
      "source": [
        "import re\n",
        "import nltk\n",
        "from datasets import load_dataset\n",
        "from nltk.corpus import stopwords\n",
        "from nltk.stem import WordNetLemmatizer\n",
        "from nltk.tokenize import word_tokenize\n",
        "from sklearn.metrics import accuracy_score, precision_score, recall_score, f1_score\n",
        "nltk.download('stopwords')\n",
        "nltk.download('wordnet')\n",
        "nltk.download('punkt')\n",
        "nltk.download('punkt_tab')"
      ]
    },
    {
      "cell_type": "markdown",
      "metadata": {
        "id": "RABjPaflYkNo"
      },
      "source": [
        "**loading the IMDB dataset**"
      ]
    },
    {
      "cell_type": "code",
      "execution_count": 3,
      "metadata": {
        "colab": {
          "base_uri": "https://localhost:8080/",
          "height": 365,
          "referenced_widgets": [
            "fccc7e4e7fe849ecbf246ff3dab4ee02",
            "3f2f45a9330b41ab91f51b9d6a1baa7c",
            "76c3c4cc2dc3413596ddf7b0058e7ab1",
            "307a428434ca481eba2b9bb84cecc1d6",
            "b790d5b4a7af45e5b39dee27be5e3cd7",
            "b1b6e1afe30b4cbba13b1b724aad465d",
            "ee259dab6dba481badb6f03b3a263213",
            "e82e6cad91794a0586eb8a8e9dc78583",
            "562d4a45f90b4669882d5e0307fb6ea0",
            "61064d7918de4c9393fe99bc40d86446",
            "4a92baa29ffc4510884eb8632bc2f3a4",
            "caf9584d379c4273809ad86b2d32ca96",
            "1f0090006f644e1ea39e4d1212f9be46",
            "1519cdbbb3ce4872a221a126a52e87a3",
            "65391118f0364009990b7a49fc65fdd8",
            "d390646f2b22469ba7338a3742a3806a",
            "90befeaa72a2410c8a9988b9f91dbaf3",
            "1ac615429d0a4a71afdec37a316d2edf",
            "21787b5747214467825eae37ccd1f9f2",
            "88aa4e4c022348a8a58a9ed6280995b2",
            "ed1a559598e74b63bb052fc75dfb7b39",
            "fa8642217c8a4dce886b16e2896f35a1",
            "c09b01266c69467c855c777fbdb344e6",
            "a1d3810cc7e342fba51d9467ee416a5c",
            "9d9dc8002df342bba18997182b408373",
            "4254ee098811469da54fe5eaf6f115ee",
            "e8466947dc4a41288d85255fa097b147",
            "e2957c7617e743cba605279aabe5479b",
            "b177fb0396f04e2b927432889dd31c05",
            "03d984b187384d4d946dcd8d2f4be8c9",
            "eac7269b700a4478a8469d7a9d550830",
            "1a4b7b2655aa40e1b36d4d97257b96a8",
            "fdb029b479284acc904d1028f222d494",
            "5949de2ba37a4c44826a9f92afd36a9a",
            "7c338f4b83ec421d86228f2d86e8dcae",
            "5a3e0b9e8f9b449c8be858e8617abbb1",
            "c48d2755f5384f059bb3305c05f95375",
            "ea9bf0b30ed942fd9f9590bf294463bd",
            "50dc0b3f0a8c4b03a1354d512f7e8161",
            "3ff13e60186f4168bef8effca2baa09c",
            "c1a7f1ca3a1845c4a4ceb999028939f4",
            "26014922784d4406a9732f36e39d5c4e",
            "8d6ae3ecafcf4623a1a183f6662d0615",
            "dc3a0b0a717e4318a17f60acefe4ae77",
            "60e9966a9d7b44b8a7b881394821e035",
            "fdd0fc07e15a48e78b5b59d983ea339c",
            "f4e3ad6be3124542a83c5d6482fe5463",
            "5b0ae65c1edd46ed84917d5b7c7eb5d5",
            "44c8503ea6254dfdb741c5f2dd32edc4",
            "128fd6c25ef248c59d5845b40eb0f272",
            "29a3c64244884dfd825424bbf66f218f",
            "0cddf53b7d624066a7ba26ac48711c3b",
            "199f43a17e96425b8ce2e1740c9202ac",
            "fb46ca5c581e4e4096ba0c65d56818ef",
            "9c5099a61ef04493ab8e7d729ec353b5",
            "cfc6eb95f9d740219512fc4ea8fd7f97",
            "3c36e84082f14d15bdea365356a1a268",
            "1052a759a1454ea38a3932e0ce6cc957",
            "0532e04206e34f85870606e2c7bee16b",
            "60febd1d88bf41009ce1472b59c7baad",
            "35cd4da8cff848ff9c25d3b822c76663",
            "c0e69a32f3c54ad0ae2d4227ce3cb450",
            "3aeca80c778d4c32ab72aa20dd7d7587",
            "f3436675698f41ea85af6c88512ad11a",
            "94d47f048f484903b78b440ce62e2e6f",
            "4478cb6be37341b3835e8f677150a027",
            "36679a3ec84b4d51b357e36677da0dd0",
            "2eeb07177be14bd4a113ac56982d1b2b",
            "6e1fbd5dbe584f1dbc4b3267b7c7345f",
            "f995a273f03040e4925d8b1311cfab44",
            "dd03a4785f1248c086248e43ada4f126",
            "f9f19009a01d4c81b3dea7c6913802b9",
            "62094f818f864223b512a15ec352106d",
            "67d5271a3ef14e1cb5281375d62fa60a",
            "aef7900a59be4a61a14372e422e7a8fe",
            "ef9c824df99442b89707fcfa0e168615",
            "f06004e91a9649d392767de8fceee60f"
          ]
        },
        "id": "VBvbe0zlL-cO",
        "outputId": "77a2a1f2-37de-4a17-e633-71bccf3fc6e7"
      },
      "outputs": [
        {
          "output_type": "stream",
          "name": "stderr",
          "text": [
            "/usr/local/lib/python3.11/dist-packages/huggingface_hub/utils/_auth.py:94: UserWarning: \n",
            "The secret `HF_TOKEN` does not exist in your Colab secrets.\n",
            "To authenticate with the Hugging Face Hub, create a token in your settings tab (https://huggingface.co/settings/tokens), set it as secret in your Google Colab and restart your session.\n",
            "You will be able to reuse this secret in all of your notebooks.\n",
            "Please note that authentication is recommended but still optional to access public models or datasets.\n",
            "  warnings.warn(\n"
          ]
        },
        {
          "output_type": "display_data",
          "data": {
            "text/plain": [
              "README.md:   0%|          | 0.00/7.81k [00:00<?, ?B/s]"
            ],
            "application/vnd.jupyter.widget-view+json": {
              "version_major": 2,
              "version_minor": 0,
              "model_id": "fccc7e4e7fe849ecbf246ff3dab4ee02"
            }
          },
          "metadata": {}
        },
        {
          "output_type": "display_data",
          "data": {
            "text/plain": [
              "train-00000-of-00001.parquet:   0%|          | 0.00/21.0M [00:00<?, ?B/s]"
            ],
            "application/vnd.jupyter.widget-view+json": {
              "version_major": 2,
              "version_minor": 0,
              "model_id": "caf9584d379c4273809ad86b2d32ca96"
            }
          },
          "metadata": {}
        },
        {
          "output_type": "display_data",
          "data": {
            "text/plain": [
              "test-00000-of-00001.parquet:   0%|          | 0.00/20.5M [00:00<?, ?B/s]"
            ],
            "application/vnd.jupyter.widget-view+json": {
              "version_major": 2,
              "version_minor": 0,
              "model_id": "c09b01266c69467c855c777fbdb344e6"
            }
          },
          "metadata": {}
        },
        {
          "output_type": "display_data",
          "data": {
            "text/plain": [
              "unsupervised-00000-of-00001.parquet:   0%|          | 0.00/42.0M [00:00<?, ?B/s]"
            ],
            "application/vnd.jupyter.widget-view+json": {
              "version_major": 2,
              "version_minor": 0,
              "model_id": "5949de2ba37a4c44826a9f92afd36a9a"
            }
          },
          "metadata": {}
        },
        {
          "output_type": "display_data",
          "data": {
            "text/plain": [
              "Generating train split:   0%|          | 0/25000 [00:00<?, ? examples/s]"
            ],
            "application/vnd.jupyter.widget-view+json": {
              "version_major": 2,
              "version_minor": 0,
              "model_id": "60e9966a9d7b44b8a7b881394821e035"
            }
          },
          "metadata": {}
        },
        {
          "output_type": "display_data",
          "data": {
            "text/plain": [
              "Generating test split:   0%|          | 0/25000 [00:00<?, ? examples/s]"
            ],
            "application/vnd.jupyter.widget-view+json": {
              "version_major": 2,
              "version_minor": 0,
              "model_id": "cfc6eb95f9d740219512fc4ea8fd7f97"
            }
          },
          "metadata": {}
        },
        {
          "output_type": "display_data",
          "data": {
            "text/plain": [
              "Generating unsupervised split:   0%|          | 0/50000 [00:00<?, ? examples/s]"
            ],
            "application/vnd.jupyter.widget-view+json": {
              "version_major": 2,
              "version_minor": 0,
              "model_id": "36679a3ec84b4d51b357e36677da0dd0"
            }
          },
          "metadata": {}
        }
      ],
      "source": [
        "data = load_dataset('imdb')\n",
        "train_data = data['train']\n",
        "test_data = data['test']"
      ]
    },
    {
      "cell_type": "code",
      "execution_count": 4,
      "metadata": {
        "id": "0pqDo-OlMhJq"
      },
      "outputs": [],
      "source": [
        "train = [x['text'] for x in train_data]\n",
        "test = [x['text'] for x in test_data]\n",
        "review = train + test\n",
        "sentiment = [x['label'] for x in train_data] + [x['label'] for x in test_data]"
      ]
    },
    {
      "cell_type": "markdown",
      "metadata": {
        "id": "wgxi_4fhYqvz"
      },
      "source": [
        "# **Preprocessing the imdb data in a single function**"
      ]
    },
    {
      "cell_type": "code",
      "execution_count": 5,
      "metadata": {
        "id": "LlF9CUDmM-9n"
      },
      "outputs": [],
      "source": [
        "stopwords_list = set(stopwords.words('english'))\n",
        "\n",
        "tag_re = re.compile(r\"<[^>]+>\")\n",
        "\n",
        "def remove_tags(text):\n",
        "    return tag_re.sub('', text)\n",
        "\n",
        "def preprocess(text):\n",
        "    text = text.lower()\n",
        "\n",
        "    # Remove HTML tags\n",
        "    text = remove_tags(text)\n",
        "\n",
        "    # Remove punctuation and numbers\n",
        "    text = re.sub(r'[^a-zA-Z\\s]', '', text)\n",
        "\n",
        "    # Remove single characters\n",
        "    text = re.sub(r\"\\b[a-zA-Z]\\b\", '', text)\n",
        "\n",
        "    # Remove multiple spaces\n",
        "    text = re.sub(r'\\s+', ' ', text).strip()\n",
        "\n",
        "    # Tokenize and remove stopwords\n",
        "    words = text.split()\n",
        "    words = [word for word in words if word not in stopwords_list]\n",
        "\n",
        "    return ' '.join(words)"
      ]
    },
    {
      "cell_type": "markdown",
      "metadata": {
        "id": "3ht2OPpvYz75"
      },
      "source": [
        "**Applying the preprocess function at imdb text data**"
      ]
    },
    {
      "cell_type": "code",
      "execution_count": 6,
      "metadata": {
        "id": "crzyAP5UPAb1"
      },
      "outputs": [],
      "source": [
        "x = [] #storing processesd review data here\n",
        "for i in review:\n",
        "  x.append(preprocess(i))"
      ]
    },
    {
      "cell_type": "markdown",
      "metadata": {
        "id": "mKJWJSnRY9EC"
      },
      "source": [
        "# **Lemmatizing the text**"
      ]
    },
    {
      "cell_type": "code",
      "execution_count": 7,
      "metadata": {
        "id": "w2U1KQR-PS9m"
      },
      "outputs": [],
      "source": [
        "lematizer = WordNetLemmatizer()\n",
        "def lematize(text): #function to convert words into their root words (lematization)\n",
        "  token = word_tokenize(text)\n",
        "  lematized = [lematizer.lemmatize(word) for word in token]\n",
        "  return ' '.join(lematized)"
      ]
    },
    {
      "cell_type": "code",
      "execution_count": 8,
      "metadata": {
        "id": "ItKsE6tiRHHi"
      },
      "outputs": [],
      "source": [
        "x_lematized = [] #storing the lematized words here\n",
        "for i in x:\n",
        "  x_lematized.append(lematize(i))"
      ]
    },
    {
      "cell_type": "markdown",
      "metadata": {
        "id": "0M9juv2MZGcx"
      },
      "source": [
        "**Using Term Frequency-Inverse Document Frequency (TF-IDF) converting the text into data**"
      ]
    },
    {
      "cell_type": "markdown",
      "source": [
        "**Here is why TF-IDF is preferred over Bag of Words (BoW)**\n",
        "\n",
        "\n",
        "\n",
        "*   Considers Word Importance: Weighs words based on their significance in a document.\n",
        "*  Reduces Common Word Impact: Lowers the influence of frequent but less meaningful words.\n",
        "*   Enhances Relevance: Highlights unique terms, improving NLP performance.\n",
        "*  Balances Frequency & Uniqueness: Unlike BoW, it accounts for word occurrence across multiple documents.\n",
        "\n"
      ],
      "metadata": {
        "id": "4BI3bllnUVCI"
      }
    },
    {
      "cell_type": "code",
      "execution_count": 9,
      "metadata": {
        "id": "-DvVNu90QhDR"
      },
      "outputs": [],
      "source": [
        "from sklearn.feature_extraction.text import TfidfVectorizer\n",
        "vectorizer = TfidfVectorizer()\n",
        "x = vectorizer.fit_transform(x_lematized)"
      ]
    },
    {
      "cell_type": "code",
      "execution_count": 10,
      "metadata": {
        "colab": {
          "base_uri": "https://localhost:8080/"
        },
        "collapsed": true,
        "id": "rlEQ82VzPLZj",
        "outputId": "ce066faa-7b65-49ff-d13c-04f921c72e11"
      },
      "outputs": [
        {
          "output_type": "stream",
          "name": "stdout",
          "text": [
            "  (0, 147352)\t0.06887165744892833\n",
            "  (0, 40261)\t0.43163979086357285\n",
            "  (0, 191879)\t0.05103366923832112\n",
            "  (0, 170093)\t0.06341512274416986\n",
            "  (0, 36485)\t0.0915987965354543\n",
            "  (0, 173807)\t0.08213501373585433\n",
            "  (0, 64729)\t0.06237970433627787\n",
            "  (0, 146763)\t0.05638557253809167\n",
            "  (0, 5489)\t0.03089083548910607\n",
            "  (0, 79493)\t0.05438797765084294\n",
            "  (0, 157091)\t0.1178250011423481\n",
            "  (0, 40410)\t0.09316446837947953\n",
            "  (0, 57540)\t0.03451718941134645\n",
            "  (0, 184650)\t0.058776008635458406\n",
            "  (0, 55739)\t0.07623589830465599\n",
            "  (0, 37765)\t0.05643781951133665\n",
            "  (0, 178763)\t0.06949279056901347\n",
            "  (0, 60877)\t0.042142107624914556\n",
            "  (0, 63298)\t0.08036879938586203\n",
            "  (0, 35913)\t0.13075712669574147\n",
            "  (0, 36480)\t0.07984120637884981\n",
            "  (0, 145020)\t0.08560638910590448\n",
            "  (0, 156655)\t0.02731785790963409\n",
            "  (0, 119242)\t0.1296736558181662\n",
            "  (0, 136334)\t0.067683669217308\n",
            "  :\t:\n",
            "  (0, 93972)\t0.04926885352501424\n",
            "  (0, 66583)\t0.07789364112799925\n",
            "  (0, 63981)\t0.10843783114239668\n",
            "  (0, 34260)\t0.10514179186104686\n",
            "  (0, 63702)\t0.0577513117746401\n",
            "  (0, 60200)\t0.04032934215926248\n",
            "  (0, 161015)\t0.16864612571019838\n",
            "  (0, 10043)\t0.07096975550078184\n",
            "  (0, 142283)\t0.06408650662578659\n",
            "  (0, 144348)\t0.04457272159983056\n",
            "  (0, 160335)\t0.06765876895348774\n",
            "  (0, 132950)\t0.031173940872558686\n",
            "  (0, 106927)\t0.02721520154008167\n",
            "  (0, 115100)\t0.04680072599949553\n",
            "  (0, 177973)\t0.056832693194287555\n",
            "  (0, 6021)\t0.061510050904365225\n",
            "  (0, 8152)\t0.04393441450889051\n",
            "  (0, 193896)\t0.07018851918631755\n",
            "  (0, 171385)\t0.07087804512851895\n",
            "  (0, 110544)\t0.08202634832087005\n",
            "  (0, 138377)\t0.09906412403620324\n",
            "  (0, 142033)\t0.08303886509649856\n",
            "  (0, 89737)\t0.06749945143572336\n",
            "  (0, 48508)\t0.03815740004393031\n",
            "  (0, 117974)\t0.029549270663159502\n",
            "____________________________________________________________________________________________________\n",
            "  (0, 63298)\t0.08513684400731672\n",
            "  (0, 156655)\t0.028938546117881825\n",
            "  (0, 137177)\t0.06883672144260626\n",
            "  (0, 124362)\t0.20524142527361822\n",
            "  (0, 102383)\t0.024313036935220658\n",
            "  (0, 60200)\t0.04272196348045525\n",
            "  (0, 48508)\t0.04042116642389894\n",
            "  (0, 40251)\t0.07847039760796505\n",
            "  (0, 201752)\t0.09054985972707288\n",
            "  (0, 149787)\t0.11676354995020442\n",
            "  (0, 139662)\t0.1579509205410756\n",
            "  (0, 169171)\t0.10205693363713937\n",
            "  (0, 135078)\t0.08032613706023037\n",
            "  (0, 109451)\t0.1096898641613017\n",
            "  (0, 126683)\t0.043176648663721166\n",
            "  (0, 192052)\t0.1175860925388947\n",
            "  (0, 78388)\t0.06670979232906654\n",
            "  (0, 175210)\t0.05867565274599523\n",
            "  (0, 158485)\t0.06013109150298395\n",
            "  (0, 101570)\t0.058357913667186394\n",
            "  (0, 31655)\t0.07215278146135738\n",
            "  (0, 68568)\t0.1012162850602588\n",
            "  (0, 107140)\t0.12987644582969418\n",
            "  (0, 11808)\t0.10391087635895485\n",
            "  (0, 120301)\t0.10917045020455436\n",
            "  :\t:\n",
            "  (0, 123461)\t0.05870490694383007\n",
            "  (0, 152630)\t0.04917708110030214\n",
            "  (0, 107378)\t0.03962567403695711\n",
            "  (0, 70956)\t0.0704290698675037\n",
            "  (0, 199222)\t0.055140850849412004\n",
            "  (0, 62500)\t0.05988151277372357\n",
            "  (0, 6048)\t0.05037861780886067\n",
            "  (0, 8200)\t0.045372124646287273\n",
            "  (0, 160577)\t0.05158212596001025\n",
            "  (0, 137757)\t0.07711419292172494\n",
            "  (0, 59270)\t0.0887957694837512\n",
            "  (0, 56609)\t0.11626537603453564\n",
            "  (0, 4762)\t0.10089395788455854\n",
            "  (0, 101325)\t0.05159519059898805\n",
            "  (0, 49502)\t0.07527802769991268\n",
            "  (0, 168443)\t0.06312495049091366\n",
            "  (0, 2375)\t0.08778061825491086\n",
            "  (0, 44159)\t0.08075875005372948\n",
            "  (0, 245)\t0.06696163027428564\n",
            "  (0, 33827)\t0.037466619159261194\n",
            "  (0, 177169)\t0.06630858607798093\n",
            "  (0, 40102)\t0.11532029285069244\n",
            "  (0, 89245)\t0.06578310844003776\n",
            "  (0, 199092)\t0.09230435901448228\n",
            "  (0, 19813)\t0.058690272035461656\n",
            "____________________________________________________________________________________________________\n",
            "  (0, 63298)\t0.08615608483761376\n",
            "  (0, 107032)\t0.09483767098381031\n",
            "  (0, 91392)\t0.1310831430749965\n",
            "  (0, 113089)\t0.10138062517821445\n",
            "  (0, 126683)\t0.17477420257465548\n",
            "  (0, 33827)\t0.15166064734964607\n",
            "  (0, 12011)\t0.1293833653494592\n",
            "  (0, 186448)\t0.11443813203782555\n",
            "  (0, 69451)\t0.12685555675691662\n",
            "  (0, 89924)\t0.09112855649289668\n",
            "  (0, 59142)\t0.16264748859824596\n",
            "  (0, 176802)\t0.0958804041090441\n",
            "  (0, 33203)\t0.2565863523210911\n",
            "  (0, 170403)\t0.25082964817298414\n",
            "  (0, 112691)\t0.18551711704079898\n",
            "  (0, 62276)\t0.08747221517375679\n",
            "  (0, 192638)\t0.24464309771399126\n",
            "  (0, 162638)\t0.1403655859281225\n",
            "  (0, 180520)\t0.19010582885008656\n",
            "  (0, 183153)\t0.13119871027729127\n",
            "  (0, 108029)\t0.07222703866630824\n",
            "  (0, 87309)\t0.12294630331883344\n",
            "  (0, 198658)\t0.08933209265357223\n",
            "  (0, 47120)\t0.2737489244695798\n",
            "  (0, 116524)\t0.19590731017888716\n",
            "  (0, 192070)\t0.10365183538927897\n",
            "  (0, 12136)\t0.09368269703836701\n",
            "  (0, 121208)\t0.08628290228830819\n",
            "  (0, 133887)\t0.15618863504458227\n",
            "  (0, 188726)\t0.1306256321700777\n",
            "  (0, 193824)\t0.1963894881007815\n",
            "  (0, 90504)\t0.21815199037975472\n",
            "  (0, 136863)\t0.14059217413834996\n",
            "  (0, 63831)\t0.24329041326149856\n",
            "  (0, 17257)\t0.07518402044287502\n",
            "  (0, 167016)\t0.13813652178547775\n",
            "  (0, 180892)\t0.054039101505245324\n",
            "  (0, 168659)\t0.18311672040207488\n",
            "  (0, 198118)\t0.15090660373408504\n",
            "  (0, 184361)\t0.1609709356598738\n",
            "  (0, 75660)\t0.1546896466552871\n",
            "____________________________________________________________________________________________________\n",
            "  (0, 63298)\t0.13632496866342353\n",
            "  (0, 156655)\t0.0463377100558982\n",
            "  (0, 174310)\t0.1490636631080756\n",
            "  (0, 101101)\t0.16873315713891096\n",
            "  (0, 124362)\t0.10954728705728471\n",
            "  (0, 61210)\t0.07290135844149186\n",
            "  (0, 73463)\t0.04368138912209894\n",
            "  (0, 116803)\t0.03175527947190723\n",
            "  (0, 45893)\t0.11097401082838725\n",
            "  (0, 1883)\t0.08843001144147386\n",
            "  (0, 198658)\t0.07067518652100799\n",
            "  (0, 180892)\t0.04275309650610958\n",
            "  (0, 140144)\t0.07336772596487927\n",
            "  (0, 89384)\t0.11916724575970204\n",
            "  (0, 72936)\t0.33890475755299193\n",
            "  (0, 108850)\t0.24405524454354605\n",
            "  (0, 65983)\t0.24405524454354605\n",
            "  (0, 190005)\t0.13978859631821822\n",
            "  (0, 89492)\t0.1958606731003061\n",
            "  (0, 186230)\t0.05857282137166507\n",
            "  (0, 171124)\t0.09475224325039909\n",
            "  (0, 53634)\t0.09401268093073094\n",
            "  (0, 144881)\t0.10246501678523447\n",
            "  (0, 1296)\t0.05636158172115976\n",
            "  (0, 87439)\t0.11115265063260298\n",
            "  :\t:\n",
            "  (0, 8431)\t0.10638149640189945\n",
            "  (0, 171003)\t0.12677021207031983\n",
            "  (0, 54903)\t0.12589989251224676\n",
            "  (0, 170814)\t0.15891588022864692\n",
            "  (0, 161891)\t0.15215812266085926\n",
            "  (0, 124674)\t0.21995795882192606\n",
            "  (0, 7328)\t0.09709292742957873\n",
            "  (0, 199763)\t0.07044567459696914\n",
            "  (0, 1245)\t0.08610264006738046\n",
            "  (0, 171556)\t0.0862833054406347\n",
            "  (0, 63644)\t0.18616938329528723\n",
            "  (0, 187168)\t0.16007669577938652\n",
            "  (0, 34619)\t0.14428491521459272\n",
            "  (0, 89679)\t0.22885155000146337\n",
            "  (0, 147515)\t0.1351221882079165\n",
            "  (0, 171596)\t0.13308031543286522\n",
            "  (0, 73185)\t0.06608966912704806\n",
            "  (0, 171867)\t0.09944146263582246\n",
            "  (0, 200197)\t0.047096692145315304\n",
            "  (0, 153913)\t0.05728932448325832\n",
            "  (0, 66225)\t0.1083876991562619\n",
            "  (0, 86142)\t0.13489409989903617\n",
            "  (0, 68047)\t0.10477219373491792\n",
            "  (0, 164818)\t0.24405524454354605\n",
            "  (0, 135557)\t0.07447523254702139\n",
            "____________________________________________________________________________________________________\n",
            "  (0, 191879)\t0.047135107496843215\n",
            "  (0, 63298)\t0.1670158568590761\n",
            "  (0, 156655)\t0.12615496674763998\n",
            "  (0, 202221)\t0.03891136177496559\n",
            "  (0, 193876)\t0.034026212494278625\n",
            "  (0, 174305)\t0.10424993696859068\n",
            "  (0, 137177)\t0.12003497714409966\n",
            "  (0, 158891)\t0.14592174700248872\n",
            "  (0, 201472)\t0.09611588932181336\n",
            "  (0, 154403)\t0.028129769240695383\n",
            "  (0, 102383)\t0.02119809581036002\n",
            "  (0, 137780)\t0.07881896042510753\n",
            "  (0, 64373)\t0.03394906612280119\n",
            "  (0, 126277)\t0.07382289008145122\n",
            "  (0, 132950)\t0.028792502597969716\n",
            "  (0, 177973)\t0.052491132678273794\n",
            "  (0, 40251)\t0.13683383208791988\n",
            "  (0, 12011)\t0.055736241620541034\n",
            "  (0, 121208)\t0.037169265745047954\n",
            "  (0, 180892)\t0.023279162744902937\n",
            "  (0, 73185)\t0.03598598204800158\n",
            "  (0, 200197)\t0.025644260902615817\n",
            "  (0, 125965)\t0.04929807908950239\n",
            "  (0, 22904)\t0.13288866119122852\n",
            "  (0, 79513)\t0.06931448572317732\n",
            "  :\t:\n",
            "  (0, 147435)\t0.07127264165960034\n",
            "  (0, 54906)\t0.08491989165878\n",
            "  (0, 181645)\t0.12461021334784583\n",
            "  (0, 100188)\t0.11053321183039841\n",
            "  (0, 70639)\t0.06149630806863864\n",
            "  (0, 18544)\t0.04586357564179231\n",
            "  (0, 18912)\t0.09309122420434555\n",
            "  (0, 57004)\t0.05181282699657877\n",
            "  (0, 57749)\t0.036308596969106065\n",
            "  (0, 176932)\t0.05417067917314617\n",
            "  (0, 149769)\t0.06640720215624073\n",
            "  (0, 42107)\t0.046892001898340904\n",
            "  (0, 192064)\t0.0692274140691139\n",
            "  (0, 70981)\t0.0643751969568191\n",
            "  (0, 172383)\t0.08350122714578129\n",
            "  (0, 120148)\t0.08677890204248817\n",
            "  (0, 148847)\t0.10964811989111097\n",
            "  (0, 88422)\t0.13288866119122852\n",
            "  (0, 135722)\t0.13288866119122852\n",
            "  (0, 119009)\t0.038618011332729636\n",
            "  (0, 147322)\t0.055377225956624754\n",
            "  (0, 61563)\t0.05612567914530473\n",
            "  (0, 67220)\t0.05696555240942677\n",
            "  (0, 46785)\t0.06645296188903885\n",
            "  (0, 131508)\t0.03431186958189998\n",
            "____________________________________________________________________________________________________\n"
          ]
        }
      ],
      "source": [
        "for i in range(5):\n",
        "  print(x[i])\n",
        "  print('_'*100)"
      ]
    },
    {
      "cell_type": "markdown",
      "metadata": {
        "id": "vxddKBVwZTxU"
      },
      "source": [
        "**Splitting the processed data into train test split for model training**"
      ]
    },
    {
      "cell_type": "code",
      "execution_count": 11,
      "metadata": {
        "id": "kn38OlokRzN0"
      },
      "outputs": [],
      "source": [
        "from sklearn.model_selection import train_test_split\n",
        "#spliting the data set in 80-20 ratio as train and test data repectively\n",
        "x_train, x_test, y_train, y_test = train_test_split(x, sentiment, test_size=0.2, random_state=42)"
      ]
    },
    {
      "cell_type": "markdown",
      "metadata": {
        "id": "HJGUCj-0Zdoy"
      },
      "source": [
        "**Training the model using LogisticRegression model**"
      ]
    },
    {
      "cell_type": "code",
      "execution_count": 12,
      "metadata": {
        "colab": {
          "base_uri": "https://localhost:8080/"
        },
        "id": "JCBj49maSlMf",
        "outputId": "fb125614-4ff9-4248-a32e-4ce2ac4a4664"
      },
      "outputs": [
        {
          "output_type": "stream",
          "name": "stdout",
          "text": [
            "Accuracy:  0.8912\n",
            "Precision:  0.880449792858552\n",
            "Recall:  0.9025278058645096\n",
            "F1 Score:  0.8913521070501298\n"
          ]
        }
      ],
      "source": [
        "from sklearn.linear_model import LogisticRegression\n",
        "lr=LogisticRegression()\n",
        "lr.fit(x_train,y_train) #training the model with the train data\n",
        "y_pred=lr.predict(x_test)\n",
        "print(\"Accuracy: \",accuracy_score(y_test,y_pred))\n",
        "print(\"Precision: \",precision_score(y_test,y_pred))\n",
        "print(\"Recall: \",recall_score(y_test,y_pred))\n",
        "print(\"F1 Score: \",f1_score(y_test,y_pred))"
      ]
    },
    {
      "cell_type": "markdown",
      "metadata": {
        "id": "Wj0Z_6AbZk07"
      },
      "source": [
        "**Tuning Hyperparameters of logisticregression model**"
      ]
    },
    {
      "cell_type": "code",
      "execution_count": 94,
      "metadata": {
        "colab": {
          "base_uri": "https://localhost:8080/"
        },
        "id": "jBAnfDssTMqp",
        "outputId": "076b9887-3408-499b-f096-dd58e1ea950e"
      },
      "outputs": [
        {
          "output_type": "stream",
          "name": "stdout",
          "text": [
            "Fitting 3 folds for each of 10 candidates, totalling 30 fits\n",
            "Best Parameters: {'max_iter': 100, 'C': 10}\n",
            "Accuracy: 0.8945\n",
            "Precision: 0.8947\n",
            "Recall: 0.8945\n"
          ]
        }
      ],
      "source": [
        "from sklearn.model_selection import RandomizedSearchCV\n",
        "param_grid = {\n",
        "    \"C\": [0.01, 0.1, 1, 10],\n",
        "    \"max_iter\": [100, 200, 300]\n",
        "}\n",
        "random = RandomizedSearchCV(lr, param_grid, cv=3, scoring='accuracy', n_jobs=-1, verbose=1)\n",
        "random.fit(x_train,y_train)\n",
        "\n",
        "best_model = random.best_estimator_\n",
        "y_pred = best_model.predict(x_test)\n",
        "# Evaluate the model\n",
        "acc = accuracy_score(y_test, y_pred)\n",
        "precision = precision_score(y_test, y_pred, average='weighted')\n",
        "recall = recall_score(y_test, y_pred, average='weighted')\n",
        "\n",
        "\n",
        "print(f\"Best Parameters: {random.best_params_}\")\n",
        "print(f\"Accuracy: {acc:.4f}\")\n",
        "print(f\"Precision: {precision:.4f}\")\n",
        "print(f\"Recall: {recall:.4f}\")"
      ]
    },
    {
      "cell_type": "markdown",
      "metadata": {
        "id": "yXHuOG36aEoh"
      },
      "source": [
        "**Training the model using naive bayes**"
      ]
    },
    {
      "cell_type": "code",
      "execution_count": 14,
      "metadata": {
        "colab": {
          "base_uri": "https://localhost:8080/"
        },
        "id": "RpSigLJQSnmK",
        "outputId": "8c38ad78-75d5-4fdc-fffe-030860dc0507"
      },
      "outputs": [
        {
          "output_type": "stream",
          "name": "stdout",
          "text": [
            "Accuracy:  0.8672\n",
            "Precision:  0.8741982205669356\n",
            "Recall:  0.8543983822042467\n",
            "F1 Score:  0.8641849048885253\n"
          ]
        }
      ],
      "source": [
        "from sklearn.naive_bayes import MultinomialNB\n",
        "nb=MultinomialNB()\n",
        "nb.fit(x_train,y_train)\n",
        "y_pred=nb.predict(x_test)\n",
        "print(\"Accuracy: \",accuracy_score(y_test,y_pred))\n",
        "print(\"Precision: \",precision_score(y_test,y_pred))\n",
        "print(\"Recall: \",recall_score(y_test,y_pred))\n",
        "print(\"F1 Score: \",f1_score(y_test,y_pred))"
      ]
    },
    {
      "cell_type": "markdown",
      "metadata": {
        "id": "-76KZXc_Zzcw"
      },
      "source": [
        "**Tuning Hyperparameters of Naive bayes model**"
      ]
    },
    {
      "cell_type": "code",
      "execution_count": 15,
      "metadata": {
        "colab": {
          "base_uri": "https://localhost:8080/"
        },
        "id": "qq-ZDQzSVC1g",
        "outputId": "a547e54c-f8f2-4829-fca2-74de97ae635f"
      },
      "outputs": [
        {
          "output_type": "stream",
          "name": "stdout",
          "text": [
            "Fitting 3 folds for each of 3 candidates, totalling 9 fits\n"
          ]
        },
        {
          "output_type": "stream",
          "name": "stderr",
          "text": [
            "/usr/local/lib/python3.11/dist-packages/sklearn/model_selection/_search.py:317: UserWarning: The total space of parameters 3 is smaller than n_iter=10. Running 3 iterations. For exhaustive searches, use GridSearchCV.\n",
            "  warnings.warn(\n"
          ]
        },
        {
          "output_type": "stream",
          "name": "stdout",
          "text": [
            "Best Parameters: {'alpha': 1.0}\n",
            "Accuracy: 0.8672\n",
            "Precision: 0.8674\n",
            "Recall: 0.8672\n"
          ]
        }
      ],
      "source": [
        "params={\n",
        "        \"alpha\": [0.1,1.0,10.0]\n",
        "    }\n",
        "random = RandomizedSearchCV(nb, params, cv=3, scoring='accuracy', n_jobs=-1, verbose=1)\n",
        "random.fit(x_train,y_train)\n",
        "\n",
        "best_model = random.best_estimator_\n",
        "y_pred = best_model.predict(x_test)\n",
        "# Evaluate the model\n",
        "acc = accuracy_score(y_test, y_pred)\n",
        "precision = precision_score(y_test, y_pred, average='weighted')\n",
        "recall = recall_score(y_test, y_pred, average='weighted')\n",
        "\n",
        "\n",
        "print(f\"Best Parameters: {random.best_params_}\")\n",
        "print(f\"Accuracy: {acc:.4f}\")\n",
        "print(f\"Precision: {precision:.4f}\")\n",
        "print(f\"Recall: {recall:.4f}\")"
      ]
    },
    {
      "cell_type": "markdown",
      "metadata": {
        "id": "KDHGirz5aLSw"
      },
      "source": [
        "**Traing the model using support vector machine**"
      ]
    },
    {
      "cell_type": "markdown",
      "source": [
        "here lots of data in x_train and y_train takes more time to train the support vector machine model so i reduced the train size for faster processing anyhow the accuracy of svc is as approximately equal to the other two models"
      ],
      "metadata": {
        "id": "7WNIf7I8PGVG"
      }
    },
    {
      "cell_type": "markdown",
      "source": [
        "**Verifying the samples are evenly distributed**"
      ],
      "metadata": {
        "id": "xEiM4spOPntN"
      }
    },
    {
      "cell_type": "code",
      "source": [
        "count=0\n",
        "for i in y_train_svc:\n",
        "  if i==1:\n",
        "    count+=1\n",
        "print(count)\n",
        "print(len(y_train_svc)-count)"
      ],
      "metadata": {
        "colab": {
          "base_uri": "https://localhost:8080/"
        },
        "id": "x_cEfZcZNJvm",
        "outputId": "54047c62-cbdd-425e-b428-ed9805e25c06"
      },
      "execution_count": 18,
      "outputs": [
        {
          "output_type": "stream",
          "name": "stdout",
          "text": [
            "2026\n",
            "1974\n"
          ]
        }
      ]
    },
    {
      "cell_type": "code",
      "source": [
        "x_train_svc, x_test_svc, y_train_svc, y_test_svc = train_test_split(x_train, y_train, test_size=0.9, random_state=42)"
      ],
      "metadata": {
        "id": "aE9hWv_IOOtA"
      },
      "execution_count": 17,
      "outputs": []
    },
    {
      "cell_type": "code",
      "execution_count": 19,
      "metadata": {
        "id": "9GM1tBZmTLQY",
        "colab": {
          "base_uri": "https://localhost:8080/"
        },
        "outputId": "b3baf6f6-b39f-4f03-913a-6631cab87401"
      },
      "outputs": [
        {
          "output_type": "stream",
          "name": "stdout",
          "text": [
            "Accuracy:  0.8551\n",
            "Precision:  0.8246656760772659\n",
            "Recall:  0.897876643073812\n",
            "F1 Score:  0.8597153645076968\n"
          ]
        }
      ],
      "source": [
        "from sklearn.svm import SVC\n",
        "svc=SVC()\n",
        "svc.fit(x_train_svc,y_train_svc)\n",
        "y_pred=svc.predict(x_test)\n",
        "print(\"Accuracy: \",accuracy_score(y_test,y_pred))\n",
        "print(\"Precision: \",precision_score(y_test,y_pred))\n",
        "print(\"Recall: \",recall_score(y_test,y_pred))\n",
        "print(\"F1 Score: \",f1_score(y_test,y_pred))"
      ]
    },
    {
      "cell_type": "markdown",
      "metadata": {
        "id": "jequsIpqZ6f6"
      },
      "source": [
        "**Tuning hyperparameters for Support vector machine model**"
      ]
    },
    {
      "cell_type": "code",
      "execution_count": 20,
      "metadata": {
        "id": "D0D4nFveU9-T",
        "colab": {
          "base_uri": "https://localhost:8080/"
        },
        "outputId": "f3a0a15b-ac39-444d-a240-9d1e75c6d451"
      },
      "outputs": [
        {
          "output_type": "stream",
          "name": "stdout",
          "text": [
            "Fitting 3 folds for each of 10 candidates, totalling 30 fits\n",
            "Best Parameters: {'kernel': 'linear', 'gamma': 'auto', 'C': 1}\n",
            "Accuracy: 0.8574\n",
            "Precision: 0.8584\n",
            "Recall: 0.8574\n"
          ]
        }
      ],
      "source": [
        "from sklearn.model_selection import RandomizedSearchCV\n",
        "param_grids ={\n",
        "     \"C\": [0.1, 1, 10],\n",
        "      \"kernel\": ['linear', 'rbf'],\n",
        "      \"gamma\": ['scale', 'auto']\n",
        "    }\n",
        "random = RandomizedSearchCV(svc, param_grids, cv=3, scoring='accuracy', n_jobs=-1, verbose=1)\n",
        "random.fit(x_train_svc,y_train_svc)\n",
        "\n",
        "best_model = random.best_estimator_\n",
        "y_pred = best_model.predict(x_test)\n",
        "# Evaluate the model\n",
        "acc = accuracy_score(y_test, y_pred)\n",
        "precision = precision_score(y_test, y_pred, average='weighted')\n",
        "recall = recall_score(y_test, y_pred, average='weighted')\n",
        "\n",
        "\n",
        "print(f\"Best Parameters: {random.best_params_}\")\n",
        "print(f\"Accuracy: {acc:.4f}\")\n",
        "print(f\"Precision: {precision:.4f}\")\n",
        "print(f\"Recall: {recall:.4f}\")"
      ]
    },
    {
      "cell_type": "markdown",
      "source": [
        "**Applying the developed models in real reviews**"
      ],
      "metadata": {
        "id": "tpsPNMghDu8i"
      }
    },
    {
      "cell_type": "code",
      "source": [
        "statement1 = \"This movie was absolutely amazing! The story was engaging, and the acting was top-notch.\" #Postive review\n",
        "statement2 = \"The film was terrible. Poor storyline, bad acting, and a complete waste of time.\" #Negative Review\n",
        "statement3 = \"The movie had some good moments, but overall, it was just average.\" #Neutral Review"
      ],
      "metadata": {
        "id": "Qa01dabS8xo3"
      },
      "execution_count": 84,
      "outputs": []
    },
    {
      "cell_type": "code",
      "source": [
        "label=['Negative','Positive']"
      ],
      "metadata": {
        "id": "lG92uwUu_sIn"
      },
      "execution_count": 85,
      "outputs": []
    },
    {
      "cell_type": "markdown",
      "source": [
        "**Processing the reviews as compatible for the model to predict**"
      ],
      "metadata": {
        "id": "F6blHPxDEgh3"
      }
    },
    {
      "cell_type": "code",
      "source": [
        "x=preprocess(statement1)\n",
        "x=lematize(x)\n",
        "x=vectorizer.transform([x])\n",
        "y=preprocess(statement2)\n",
        "y=lematize(y)\n",
        "y=vectorizer.transform([y])\n",
        "z=preprocess(statement3)\n",
        "z=lematize(z)\n",
        "z=vectorizer.transform([z])"
      ],
      "metadata": {
        "id": "4TYJy25W9hNt"
      },
      "execution_count": 86,
      "outputs": []
    },
    {
      "cell_type": "markdown",
      "source": [
        "**Prediction using linear regression**"
      ],
      "metadata": {
        "id": "3MnxvtchEoIQ"
      }
    },
    {
      "cell_type": "code",
      "source": [
        "x_pred=lr.predict(x)\n",
        "y_pred=lr.predict(y)\n",
        "z_pred=lr.predict(z)\n",
        "x_pred = x_pred[0]\n",
        "y_pred = y_pred[0]\n",
        "z_pred = z_pred[0]\n",
        "print(\"Statement 1 : \",label[x_pred],\"\\nStatement 2 : \",label[y_pred],\"\\nstatement 3 : \",label[z_pred])"
      ],
      "metadata": {
        "colab": {
          "base_uri": "https://localhost:8080/"
        },
        "id": "tQlRU63H92-j",
        "outputId": "b1534776-e3d7-457f-8dab-9ed4e394a0ae"
      },
      "execution_count": 89,
      "outputs": [
        {
          "output_type": "stream",
          "name": "stdout",
          "text": [
            "Statement 1 :  Positive \n",
            "Statement 2 :  Negative \n",
            "statement 3 :  Positive\n"
          ]
        }
      ]
    },
    {
      "cell_type": "markdown",
      "source": [
        "**Prediciton using naive bayes**"
      ],
      "metadata": {
        "id": "a6P5JN0qEtce"
      }
    },
    {
      "cell_type": "code",
      "source": [
        "x_pred=nb.predict(x)\n",
        "y_pred=nb.predict(y)\n",
        "z_pred=nb.predict(z)\n",
        "x_pred = x_pred[0]\n",
        "y_pred = y_pred[0]\n",
        "z_pred = z_pred[0]\n",
        "print(\"Statement 1 : \",label[x_pred],\"\\nStatement 2 : \",label[y_pred],\"\\nstatement 3 : \",label[z_pred])"
      ],
      "metadata": {
        "colab": {
          "base_uri": "https://localhost:8080/"
        },
        "id": "g23PATg699Qs",
        "outputId": "7b69c9d5-fb19-423d-a134-364b957c98a2"
      },
      "execution_count": 90,
      "outputs": [
        {
          "output_type": "stream",
          "name": "stdout",
          "text": [
            "Statement 1 :  Positive \n",
            "Statement 2 :  Negative \n",
            "statement 3 :  Negative\n"
          ]
        }
      ]
    },
    {
      "cell_type": "markdown",
      "source": [
        "**Prediction using support vector machine**"
      ],
      "metadata": {
        "id": "bSVCS5WLE2Bs"
      }
    },
    {
      "cell_type": "code",
      "source": [
        "x_pred=svc.predict(x)\n",
        "y_pred=svc.predict(y)\n",
        "z_pred=svc.predict(z)\n",
        "x_pred = x_pred[0]\n",
        "y_pred = y_pred[0]\n",
        "z_pred = z_pred[0]\n",
        "print(\"Statement 1 : \",label[x_pred],\"\\nStatement 2 : \",label[y_pred],\"\\nstatement 3 : \",label[z_pred])"
      ],
      "metadata": {
        "colab": {
          "base_uri": "https://localhost:8080/"
        },
        "id": "gRNCP8mf9-FH",
        "outputId": "efb59e5e-f89d-4cfa-c785-622baaa45cd5"
      },
      "execution_count": 91,
      "outputs": [
        {
          "output_type": "stream",
          "name": "stdout",
          "text": [
            "Statement 1 :  Positive \n",
            "Statement 2 :  Negative \n",
            "statement 3 :  Positive\n"
          ]
        }
      ]
    },
    {
      "cell_type": "markdown",
      "source": [
        "**Prediciton using fine tuned model Support vector machine**"
      ],
      "metadata": {
        "id": "qSPXgRkxE9sj"
      }
    },
    {
      "cell_type": "code",
      "source": [
        "x_pred=best_model.predict(x)\n",
        "y_pred=best_model.predict(y)\n",
        "z_pred=best_model.predict(z)\n",
        "x_pred = x_pred[0]\n",
        "y_pred = y_pred[0]\n",
        "z_pred = z_pred[0]\n",
        "print(\"Statement 1 : \",label[x_pred],\"\\nStatement 2 : \",label[y_pred],\"\\nstatement 3 : \",label[z_pred])"
      ],
      "metadata": {
        "colab": {
          "base_uri": "https://localhost:8080/"
        },
        "id": "nS3aHKDL-24P",
        "outputId": "be5fbc5a-9182-4ce1-ca51-859d0167e2f7"
      },
      "execution_count": 96,
      "outputs": [
        {
          "output_type": "stream",
          "name": "stdout",
          "text": [
            "Statement 1 :  Positive \n",
            "Statement 2 :  Negative \n",
            "statement 3 :  Positive\n"
          ]
        }
      ]
    },
    {
      "cell_type": "markdown",
      "source": [
        "**Saving the model**"
      ],
      "metadata": {
        "id": "pcfBg5ZTFWkC"
      }
    },
    {
      "cell_type": "code",
      "source": [
        "import pickle\n",
        "\n",
        "with open('IMDB_linear_regression.pkl', 'wb') as model_file:\n",
        "    pickle.dump(lr, model_file)\n",
        "\n",
        "\n",
        "with open('IMDB_naive_bayes.pkl', 'wb') as model_file:\n",
        "    pickle.dump(nb, model_file)\n",
        "\n",
        "\n",
        "with open('IMDB_SVC.pkl', 'wb') as model_file:\n",
        "    pickle.dump(lr, model_file)\n",
        "\n",
        "\n",
        "with open('Best_Model_of_IMDB_linear_regression.pkl', 'wb') as model_file:\n",
        "    pickle.dump(best_model, model_file)\n"
      ],
      "metadata": {
        "id": "FFDbRXXfFG7H"
      },
      "execution_count": 95,
      "outputs": []
    }
  ],
  "metadata": {
    "accelerator": "GPU",
    "colab": {
      "gpuType": "T4",
      "provenance": []
    },
    "kernelspec": {
      "display_name": "Python 3",
      "name": "python3"
    },
    "language_info": {
      "name": "python"
    },
    "widgets": {
      "application/vnd.jupyter.widget-state+json": {
        "fccc7e4e7fe849ecbf246ff3dab4ee02": {
          "model_module": "@jupyter-widgets/controls",
          "model_name": "HBoxModel",
          "model_module_version": "1.5.0",
          "state": {
            "_dom_classes": [],
            "_model_module": "@jupyter-widgets/controls",
            "_model_module_version": "1.5.0",
            "_model_name": "HBoxModel",
            "_view_count": null,
            "_view_module": "@jupyter-widgets/controls",
            "_view_module_version": "1.5.0",
            "_view_name": "HBoxView",
            "box_style": "",
            "children": [
              "IPY_MODEL_3f2f45a9330b41ab91f51b9d6a1baa7c",
              "IPY_MODEL_76c3c4cc2dc3413596ddf7b0058e7ab1",
              "IPY_MODEL_307a428434ca481eba2b9bb84cecc1d6"
            ],
            "layout": "IPY_MODEL_b790d5b4a7af45e5b39dee27be5e3cd7"
          }
        },
        "3f2f45a9330b41ab91f51b9d6a1baa7c": {
          "model_module": "@jupyter-widgets/controls",
          "model_name": "HTMLModel",
          "model_module_version": "1.5.0",
          "state": {
            "_dom_classes": [],
            "_model_module": "@jupyter-widgets/controls",
            "_model_module_version": "1.5.0",
            "_model_name": "HTMLModel",
            "_view_count": null,
            "_view_module": "@jupyter-widgets/controls",
            "_view_module_version": "1.5.0",
            "_view_name": "HTMLView",
            "description": "",
            "description_tooltip": null,
            "layout": "IPY_MODEL_b1b6e1afe30b4cbba13b1b724aad465d",
            "placeholder": "​",
            "style": "IPY_MODEL_ee259dab6dba481badb6f03b3a263213",
            "value": "README.md: 100%"
          }
        },
        "76c3c4cc2dc3413596ddf7b0058e7ab1": {
          "model_module": "@jupyter-widgets/controls",
          "model_name": "FloatProgressModel",
          "model_module_version": "1.5.0",
          "state": {
            "_dom_classes": [],
            "_model_module": "@jupyter-widgets/controls",
            "_model_module_version": "1.5.0",
            "_model_name": "FloatProgressModel",
            "_view_count": null,
            "_view_module": "@jupyter-widgets/controls",
            "_view_module_version": "1.5.0",
            "_view_name": "ProgressView",
            "bar_style": "success",
            "description": "",
            "description_tooltip": null,
            "layout": "IPY_MODEL_e82e6cad91794a0586eb8a8e9dc78583",
            "max": 7809,
            "min": 0,
            "orientation": "horizontal",
            "style": "IPY_MODEL_562d4a45f90b4669882d5e0307fb6ea0",
            "value": 7809
          }
        },
        "307a428434ca481eba2b9bb84cecc1d6": {
          "model_module": "@jupyter-widgets/controls",
          "model_name": "HTMLModel",
          "model_module_version": "1.5.0",
          "state": {
            "_dom_classes": [],
            "_model_module": "@jupyter-widgets/controls",
            "_model_module_version": "1.5.0",
            "_model_name": "HTMLModel",
            "_view_count": null,
            "_view_module": "@jupyter-widgets/controls",
            "_view_module_version": "1.5.0",
            "_view_name": "HTMLView",
            "description": "",
            "description_tooltip": null,
            "layout": "IPY_MODEL_61064d7918de4c9393fe99bc40d86446",
            "placeholder": "​",
            "style": "IPY_MODEL_4a92baa29ffc4510884eb8632bc2f3a4",
            "value": " 7.81k/7.81k [00:00&lt;00:00, 179kB/s]"
          }
        },
        "b790d5b4a7af45e5b39dee27be5e3cd7": {
          "model_module": "@jupyter-widgets/base",
          "model_name": "LayoutModel",
          "model_module_version": "1.2.0",
          "state": {
            "_model_module": "@jupyter-widgets/base",
            "_model_module_version": "1.2.0",
            "_model_name": "LayoutModel",
            "_view_count": null,
            "_view_module": "@jupyter-widgets/base",
            "_view_module_version": "1.2.0",
            "_view_name": "LayoutView",
            "align_content": null,
            "align_items": null,
            "align_self": null,
            "border": null,
            "bottom": null,
            "display": null,
            "flex": null,
            "flex_flow": null,
            "grid_area": null,
            "grid_auto_columns": null,
            "grid_auto_flow": null,
            "grid_auto_rows": null,
            "grid_column": null,
            "grid_gap": null,
            "grid_row": null,
            "grid_template_areas": null,
            "grid_template_columns": null,
            "grid_template_rows": null,
            "height": null,
            "justify_content": null,
            "justify_items": null,
            "left": null,
            "margin": null,
            "max_height": null,
            "max_width": null,
            "min_height": null,
            "min_width": null,
            "object_fit": null,
            "object_position": null,
            "order": null,
            "overflow": null,
            "overflow_x": null,
            "overflow_y": null,
            "padding": null,
            "right": null,
            "top": null,
            "visibility": null,
            "width": null
          }
        },
        "b1b6e1afe30b4cbba13b1b724aad465d": {
          "model_module": "@jupyter-widgets/base",
          "model_name": "LayoutModel",
          "model_module_version": "1.2.0",
          "state": {
            "_model_module": "@jupyter-widgets/base",
            "_model_module_version": "1.2.0",
            "_model_name": "LayoutModel",
            "_view_count": null,
            "_view_module": "@jupyter-widgets/base",
            "_view_module_version": "1.2.0",
            "_view_name": "LayoutView",
            "align_content": null,
            "align_items": null,
            "align_self": null,
            "border": null,
            "bottom": null,
            "display": null,
            "flex": null,
            "flex_flow": null,
            "grid_area": null,
            "grid_auto_columns": null,
            "grid_auto_flow": null,
            "grid_auto_rows": null,
            "grid_column": null,
            "grid_gap": null,
            "grid_row": null,
            "grid_template_areas": null,
            "grid_template_columns": null,
            "grid_template_rows": null,
            "height": null,
            "justify_content": null,
            "justify_items": null,
            "left": null,
            "margin": null,
            "max_height": null,
            "max_width": null,
            "min_height": null,
            "min_width": null,
            "object_fit": null,
            "object_position": null,
            "order": null,
            "overflow": null,
            "overflow_x": null,
            "overflow_y": null,
            "padding": null,
            "right": null,
            "top": null,
            "visibility": null,
            "width": null
          }
        },
        "ee259dab6dba481badb6f03b3a263213": {
          "model_module": "@jupyter-widgets/controls",
          "model_name": "DescriptionStyleModel",
          "model_module_version": "1.5.0",
          "state": {
            "_model_module": "@jupyter-widgets/controls",
            "_model_module_version": "1.5.0",
            "_model_name": "DescriptionStyleModel",
            "_view_count": null,
            "_view_module": "@jupyter-widgets/base",
            "_view_module_version": "1.2.0",
            "_view_name": "StyleView",
            "description_width": ""
          }
        },
        "e82e6cad91794a0586eb8a8e9dc78583": {
          "model_module": "@jupyter-widgets/base",
          "model_name": "LayoutModel",
          "model_module_version": "1.2.0",
          "state": {
            "_model_module": "@jupyter-widgets/base",
            "_model_module_version": "1.2.0",
            "_model_name": "LayoutModel",
            "_view_count": null,
            "_view_module": "@jupyter-widgets/base",
            "_view_module_version": "1.2.0",
            "_view_name": "LayoutView",
            "align_content": null,
            "align_items": null,
            "align_self": null,
            "border": null,
            "bottom": null,
            "display": null,
            "flex": null,
            "flex_flow": null,
            "grid_area": null,
            "grid_auto_columns": null,
            "grid_auto_flow": null,
            "grid_auto_rows": null,
            "grid_column": null,
            "grid_gap": null,
            "grid_row": null,
            "grid_template_areas": null,
            "grid_template_columns": null,
            "grid_template_rows": null,
            "height": null,
            "justify_content": null,
            "justify_items": null,
            "left": null,
            "margin": null,
            "max_height": null,
            "max_width": null,
            "min_height": null,
            "min_width": null,
            "object_fit": null,
            "object_position": null,
            "order": null,
            "overflow": null,
            "overflow_x": null,
            "overflow_y": null,
            "padding": null,
            "right": null,
            "top": null,
            "visibility": null,
            "width": null
          }
        },
        "562d4a45f90b4669882d5e0307fb6ea0": {
          "model_module": "@jupyter-widgets/controls",
          "model_name": "ProgressStyleModel",
          "model_module_version": "1.5.0",
          "state": {
            "_model_module": "@jupyter-widgets/controls",
            "_model_module_version": "1.5.0",
            "_model_name": "ProgressStyleModel",
            "_view_count": null,
            "_view_module": "@jupyter-widgets/base",
            "_view_module_version": "1.2.0",
            "_view_name": "StyleView",
            "bar_color": null,
            "description_width": ""
          }
        },
        "61064d7918de4c9393fe99bc40d86446": {
          "model_module": "@jupyter-widgets/base",
          "model_name": "LayoutModel",
          "model_module_version": "1.2.0",
          "state": {
            "_model_module": "@jupyter-widgets/base",
            "_model_module_version": "1.2.0",
            "_model_name": "LayoutModel",
            "_view_count": null,
            "_view_module": "@jupyter-widgets/base",
            "_view_module_version": "1.2.0",
            "_view_name": "LayoutView",
            "align_content": null,
            "align_items": null,
            "align_self": null,
            "border": null,
            "bottom": null,
            "display": null,
            "flex": null,
            "flex_flow": null,
            "grid_area": null,
            "grid_auto_columns": null,
            "grid_auto_flow": null,
            "grid_auto_rows": null,
            "grid_column": null,
            "grid_gap": null,
            "grid_row": null,
            "grid_template_areas": null,
            "grid_template_columns": null,
            "grid_template_rows": null,
            "height": null,
            "justify_content": null,
            "justify_items": null,
            "left": null,
            "margin": null,
            "max_height": null,
            "max_width": null,
            "min_height": null,
            "min_width": null,
            "object_fit": null,
            "object_position": null,
            "order": null,
            "overflow": null,
            "overflow_x": null,
            "overflow_y": null,
            "padding": null,
            "right": null,
            "top": null,
            "visibility": null,
            "width": null
          }
        },
        "4a92baa29ffc4510884eb8632bc2f3a4": {
          "model_module": "@jupyter-widgets/controls",
          "model_name": "DescriptionStyleModel",
          "model_module_version": "1.5.0",
          "state": {
            "_model_module": "@jupyter-widgets/controls",
            "_model_module_version": "1.5.0",
            "_model_name": "DescriptionStyleModel",
            "_view_count": null,
            "_view_module": "@jupyter-widgets/base",
            "_view_module_version": "1.2.0",
            "_view_name": "StyleView",
            "description_width": ""
          }
        },
        "caf9584d379c4273809ad86b2d32ca96": {
          "model_module": "@jupyter-widgets/controls",
          "model_name": "HBoxModel",
          "model_module_version": "1.5.0",
          "state": {
            "_dom_classes": [],
            "_model_module": "@jupyter-widgets/controls",
            "_model_module_version": "1.5.0",
            "_model_name": "HBoxModel",
            "_view_count": null,
            "_view_module": "@jupyter-widgets/controls",
            "_view_module_version": "1.5.0",
            "_view_name": "HBoxView",
            "box_style": "",
            "children": [
              "IPY_MODEL_1f0090006f644e1ea39e4d1212f9be46",
              "IPY_MODEL_1519cdbbb3ce4872a221a126a52e87a3",
              "IPY_MODEL_65391118f0364009990b7a49fc65fdd8"
            ],
            "layout": "IPY_MODEL_d390646f2b22469ba7338a3742a3806a"
          }
        },
        "1f0090006f644e1ea39e4d1212f9be46": {
          "model_module": "@jupyter-widgets/controls",
          "model_name": "HTMLModel",
          "model_module_version": "1.5.0",
          "state": {
            "_dom_classes": [],
            "_model_module": "@jupyter-widgets/controls",
            "_model_module_version": "1.5.0",
            "_model_name": "HTMLModel",
            "_view_count": null,
            "_view_module": "@jupyter-widgets/controls",
            "_view_module_version": "1.5.0",
            "_view_name": "HTMLView",
            "description": "",
            "description_tooltip": null,
            "layout": "IPY_MODEL_90befeaa72a2410c8a9988b9f91dbaf3",
            "placeholder": "​",
            "style": "IPY_MODEL_1ac615429d0a4a71afdec37a316d2edf",
            "value": "train-00000-of-00001.parquet: 100%"
          }
        },
        "1519cdbbb3ce4872a221a126a52e87a3": {
          "model_module": "@jupyter-widgets/controls",
          "model_name": "FloatProgressModel",
          "model_module_version": "1.5.0",
          "state": {
            "_dom_classes": [],
            "_model_module": "@jupyter-widgets/controls",
            "_model_module_version": "1.5.0",
            "_model_name": "FloatProgressModel",
            "_view_count": null,
            "_view_module": "@jupyter-widgets/controls",
            "_view_module_version": "1.5.0",
            "_view_name": "ProgressView",
            "bar_style": "success",
            "description": "",
            "description_tooltip": null,
            "layout": "IPY_MODEL_21787b5747214467825eae37ccd1f9f2",
            "max": 20979968,
            "min": 0,
            "orientation": "horizontal",
            "style": "IPY_MODEL_88aa4e4c022348a8a58a9ed6280995b2",
            "value": 20979968
          }
        },
        "65391118f0364009990b7a49fc65fdd8": {
          "model_module": "@jupyter-widgets/controls",
          "model_name": "HTMLModel",
          "model_module_version": "1.5.0",
          "state": {
            "_dom_classes": [],
            "_model_module": "@jupyter-widgets/controls",
            "_model_module_version": "1.5.0",
            "_model_name": "HTMLModel",
            "_view_count": null,
            "_view_module": "@jupyter-widgets/controls",
            "_view_module_version": "1.5.0",
            "_view_name": "HTMLView",
            "description": "",
            "description_tooltip": null,
            "layout": "IPY_MODEL_ed1a559598e74b63bb052fc75dfb7b39",
            "placeholder": "​",
            "style": "IPY_MODEL_fa8642217c8a4dce886b16e2896f35a1",
            "value": " 21.0M/21.0M [00:00&lt;00:00, 34.8MB/s]"
          }
        },
        "d390646f2b22469ba7338a3742a3806a": {
          "model_module": "@jupyter-widgets/base",
          "model_name": "LayoutModel",
          "model_module_version": "1.2.0",
          "state": {
            "_model_module": "@jupyter-widgets/base",
            "_model_module_version": "1.2.0",
            "_model_name": "LayoutModel",
            "_view_count": null,
            "_view_module": "@jupyter-widgets/base",
            "_view_module_version": "1.2.0",
            "_view_name": "LayoutView",
            "align_content": null,
            "align_items": null,
            "align_self": null,
            "border": null,
            "bottom": null,
            "display": null,
            "flex": null,
            "flex_flow": null,
            "grid_area": null,
            "grid_auto_columns": null,
            "grid_auto_flow": null,
            "grid_auto_rows": null,
            "grid_column": null,
            "grid_gap": null,
            "grid_row": null,
            "grid_template_areas": null,
            "grid_template_columns": null,
            "grid_template_rows": null,
            "height": null,
            "justify_content": null,
            "justify_items": null,
            "left": null,
            "margin": null,
            "max_height": null,
            "max_width": null,
            "min_height": null,
            "min_width": null,
            "object_fit": null,
            "object_position": null,
            "order": null,
            "overflow": null,
            "overflow_x": null,
            "overflow_y": null,
            "padding": null,
            "right": null,
            "top": null,
            "visibility": null,
            "width": null
          }
        },
        "90befeaa72a2410c8a9988b9f91dbaf3": {
          "model_module": "@jupyter-widgets/base",
          "model_name": "LayoutModel",
          "model_module_version": "1.2.0",
          "state": {
            "_model_module": "@jupyter-widgets/base",
            "_model_module_version": "1.2.0",
            "_model_name": "LayoutModel",
            "_view_count": null,
            "_view_module": "@jupyter-widgets/base",
            "_view_module_version": "1.2.0",
            "_view_name": "LayoutView",
            "align_content": null,
            "align_items": null,
            "align_self": null,
            "border": null,
            "bottom": null,
            "display": null,
            "flex": null,
            "flex_flow": null,
            "grid_area": null,
            "grid_auto_columns": null,
            "grid_auto_flow": null,
            "grid_auto_rows": null,
            "grid_column": null,
            "grid_gap": null,
            "grid_row": null,
            "grid_template_areas": null,
            "grid_template_columns": null,
            "grid_template_rows": null,
            "height": null,
            "justify_content": null,
            "justify_items": null,
            "left": null,
            "margin": null,
            "max_height": null,
            "max_width": null,
            "min_height": null,
            "min_width": null,
            "object_fit": null,
            "object_position": null,
            "order": null,
            "overflow": null,
            "overflow_x": null,
            "overflow_y": null,
            "padding": null,
            "right": null,
            "top": null,
            "visibility": null,
            "width": null
          }
        },
        "1ac615429d0a4a71afdec37a316d2edf": {
          "model_module": "@jupyter-widgets/controls",
          "model_name": "DescriptionStyleModel",
          "model_module_version": "1.5.0",
          "state": {
            "_model_module": "@jupyter-widgets/controls",
            "_model_module_version": "1.5.0",
            "_model_name": "DescriptionStyleModel",
            "_view_count": null,
            "_view_module": "@jupyter-widgets/base",
            "_view_module_version": "1.2.0",
            "_view_name": "StyleView",
            "description_width": ""
          }
        },
        "21787b5747214467825eae37ccd1f9f2": {
          "model_module": "@jupyter-widgets/base",
          "model_name": "LayoutModel",
          "model_module_version": "1.2.0",
          "state": {
            "_model_module": "@jupyter-widgets/base",
            "_model_module_version": "1.2.0",
            "_model_name": "LayoutModel",
            "_view_count": null,
            "_view_module": "@jupyter-widgets/base",
            "_view_module_version": "1.2.0",
            "_view_name": "LayoutView",
            "align_content": null,
            "align_items": null,
            "align_self": null,
            "border": null,
            "bottom": null,
            "display": null,
            "flex": null,
            "flex_flow": null,
            "grid_area": null,
            "grid_auto_columns": null,
            "grid_auto_flow": null,
            "grid_auto_rows": null,
            "grid_column": null,
            "grid_gap": null,
            "grid_row": null,
            "grid_template_areas": null,
            "grid_template_columns": null,
            "grid_template_rows": null,
            "height": null,
            "justify_content": null,
            "justify_items": null,
            "left": null,
            "margin": null,
            "max_height": null,
            "max_width": null,
            "min_height": null,
            "min_width": null,
            "object_fit": null,
            "object_position": null,
            "order": null,
            "overflow": null,
            "overflow_x": null,
            "overflow_y": null,
            "padding": null,
            "right": null,
            "top": null,
            "visibility": null,
            "width": null
          }
        },
        "88aa4e4c022348a8a58a9ed6280995b2": {
          "model_module": "@jupyter-widgets/controls",
          "model_name": "ProgressStyleModel",
          "model_module_version": "1.5.0",
          "state": {
            "_model_module": "@jupyter-widgets/controls",
            "_model_module_version": "1.5.0",
            "_model_name": "ProgressStyleModel",
            "_view_count": null,
            "_view_module": "@jupyter-widgets/base",
            "_view_module_version": "1.2.0",
            "_view_name": "StyleView",
            "bar_color": null,
            "description_width": ""
          }
        },
        "ed1a559598e74b63bb052fc75dfb7b39": {
          "model_module": "@jupyter-widgets/base",
          "model_name": "LayoutModel",
          "model_module_version": "1.2.0",
          "state": {
            "_model_module": "@jupyter-widgets/base",
            "_model_module_version": "1.2.0",
            "_model_name": "LayoutModel",
            "_view_count": null,
            "_view_module": "@jupyter-widgets/base",
            "_view_module_version": "1.2.0",
            "_view_name": "LayoutView",
            "align_content": null,
            "align_items": null,
            "align_self": null,
            "border": null,
            "bottom": null,
            "display": null,
            "flex": null,
            "flex_flow": null,
            "grid_area": null,
            "grid_auto_columns": null,
            "grid_auto_flow": null,
            "grid_auto_rows": null,
            "grid_column": null,
            "grid_gap": null,
            "grid_row": null,
            "grid_template_areas": null,
            "grid_template_columns": null,
            "grid_template_rows": null,
            "height": null,
            "justify_content": null,
            "justify_items": null,
            "left": null,
            "margin": null,
            "max_height": null,
            "max_width": null,
            "min_height": null,
            "min_width": null,
            "object_fit": null,
            "object_position": null,
            "order": null,
            "overflow": null,
            "overflow_x": null,
            "overflow_y": null,
            "padding": null,
            "right": null,
            "top": null,
            "visibility": null,
            "width": null
          }
        },
        "fa8642217c8a4dce886b16e2896f35a1": {
          "model_module": "@jupyter-widgets/controls",
          "model_name": "DescriptionStyleModel",
          "model_module_version": "1.5.0",
          "state": {
            "_model_module": "@jupyter-widgets/controls",
            "_model_module_version": "1.5.0",
            "_model_name": "DescriptionStyleModel",
            "_view_count": null,
            "_view_module": "@jupyter-widgets/base",
            "_view_module_version": "1.2.0",
            "_view_name": "StyleView",
            "description_width": ""
          }
        },
        "c09b01266c69467c855c777fbdb344e6": {
          "model_module": "@jupyter-widgets/controls",
          "model_name": "HBoxModel",
          "model_module_version": "1.5.0",
          "state": {
            "_dom_classes": [],
            "_model_module": "@jupyter-widgets/controls",
            "_model_module_version": "1.5.0",
            "_model_name": "HBoxModel",
            "_view_count": null,
            "_view_module": "@jupyter-widgets/controls",
            "_view_module_version": "1.5.0",
            "_view_name": "HBoxView",
            "box_style": "",
            "children": [
              "IPY_MODEL_a1d3810cc7e342fba51d9467ee416a5c",
              "IPY_MODEL_9d9dc8002df342bba18997182b408373",
              "IPY_MODEL_4254ee098811469da54fe5eaf6f115ee"
            ],
            "layout": "IPY_MODEL_e8466947dc4a41288d85255fa097b147"
          }
        },
        "a1d3810cc7e342fba51d9467ee416a5c": {
          "model_module": "@jupyter-widgets/controls",
          "model_name": "HTMLModel",
          "model_module_version": "1.5.0",
          "state": {
            "_dom_classes": [],
            "_model_module": "@jupyter-widgets/controls",
            "_model_module_version": "1.5.0",
            "_model_name": "HTMLModel",
            "_view_count": null,
            "_view_module": "@jupyter-widgets/controls",
            "_view_module_version": "1.5.0",
            "_view_name": "HTMLView",
            "description": "",
            "description_tooltip": null,
            "layout": "IPY_MODEL_e2957c7617e743cba605279aabe5479b",
            "placeholder": "​",
            "style": "IPY_MODEL_b177fb0396f04e2b927432889dd31c05",
            "value": "test-00000-of-00001.parquet: 100%"
          }
        },
        "9d9dc8002df342bba18997182b408373": {
          "model_module": "@jupyter-widgets/controls",
          "model_name": "FloatProgressModel",
          "model_module_version": "1.5.0",
          "state": {
            "_dom_classes": [],
            "_model_module": "@jupyter-widgets/controls",
            "_model_module_version": "1.5.0",
            "_model_name": "FloatProgressModel",
            "_view_count": null,
            "_view_module": "@jupyter-widgets/controls",
            "_view_module_version": "1.5.0",
            "_view_name": "ProgressView",
            "bar_style": "success",
            "description": "",
            "description_tooltip": null,
            "layout": "IPY_MODEL_03d984b187384d4d946dcd8d2f4be8c9",
            "max": 20470363,
            "min": 0,
            "orientation": "horizontal",
            "style": "IPY_MODEL_eac7269b700a4478a8469d7a9d550830",
            "value": 20470363
          }
        },
        "4254ee098811469da54fe5eaf6f115ee": {
          "model_module": "@jupyter-widgets/controls",
          "model_name": "HTMLModel",
          "model_module_version": "1.5.0",
          "state": {
            "_dom_classes": [],
            "_model_module": "@jupyter-widgets/controls",
            "_model_module_version": "1.5.0",
            "_model_name": "HTMLModel",
            "_view_count": null,
            "_view_module": "@jupyter-widgets/controls",
            "_view_module_version": "1.5.0",
            "_view_name": "HTMLView",
            "description": "",
            "description_tooltip": null,
            "layout": "IPY_MODEL_1a4b7b2655aa40e1b36d4d97257b96a8",
            "placeholder": "​",
            "style": "IPY_MODEL_fdb029b479284acc904d1028f222d494",
            "value": " 20.5M/20.5M [00:00&lt;00:00, 45.6MB/s]"
          }
        },
        "e8466947dc4a41288d85255fa097b147": {
          "model_module": "@jupyter-widgets/base",
          "model_name": "LayoutModel",
          "model_module_version": "1.2.0",
          "state": {
            "_model_module": "@jupyter-widgets/base",
            "_model_module_version": "1.2.0",
            "_model_name": "LayoutModel",
            "_view_count": null,
            "_view_module": "@jupyter-widgets/base",
            "_view_module_version": "1.2.0",
            "_view_name": "LayoutView",
            "align_content": null,
            "align_items": null,
            "align_self": null,
            "border": null,
            "bottom": null,
            "display": null,
            "flex": null,
            "flex_flow": null,
            "grid_area": null,
            "grid_auto_columns": null,
            "grid_auto_flow": null,
            "grid_auto_rows": null,
            "grid_column": null,
            "grid_gap": null,
            "grid_row": null,
            "grid_template_areas": null,
            "grid_template_columns": null,
            "grid_template_rows": null,
            "height": null,
            "justify_content": null,
            "justify_items": null,
            "left": null,
            "margin": null,
            "max_height": null,
            "max_width": null,
            "min_height": null,
            "min_width": null,
            "object_fit": null,
            "object_position": null,
            "order": null,
            "overflow": null,
            "overflow_x": null,
            "overflow_y": null,
            "padding": null,
            "right": null,
            "top": null,
            "visibility": null,
            "width": null
          }
        },
        "e2957c7617e743cba605279aabe5479b": {
          "model_module": "@jupyter-widgets/base",
          "model_name": "LayoutModel",
          "model_module_version": "1.2.0",
          "state": {
            "_model_module": "@jupyter-widgets/base",
            "_model_module_version": "1.2.0",
            "_model_name": "LayoutModel",
            "_view_count": null,
            "_view_module": "@jupyter-widgets/base",
            "_view_module_version": "1.2.0",
            "_view_name": "LayoutView",
            "align_content": null,
            "align_items": null,
            "align_self": null,
            "border": null,
            "bottom": null,
            "display": null,
            "flex": null,
            "flex_flow": null,
            "grid_area": null,
            "grid_auto_columns": null,
            "grid_auto_flow": null,
            "grid_auto_rows": null,
            "grid_column": null,
            "grid_gap": null,
            "grid_row": null,
            "grid_template_areas": null,
            "grid_template_columns": null,
            "grid_template_rows": null,
            "height": null,
            "justify_content": null,
            "justify_items": null,
            "left": null,
            "margin": null,
            "max_height": null,
            "max_width": null,
            "min_height": null,
            "min_width": null,
            "object_fit": null,
            "object_position": null,
            "order": null,
            "overflow": null,
            "overflow_x": null,
            "overflow_y": null,
            "padding": null,
            "right": null,
            "top": null,
            "visibility": null,
            "width": null
          }
        },
        "b177fb0396f04e2b927432889dd31c05": {
          "model_module": "@jupyter-widgets/controls",
          "model_name": "DescriptionStyleModel",
          "model_module_version": "1.5.0",
          "state": {
            "_model_module": "@jupyter-widgets/controls",
            "_model_module_version": "1.5.0",
            "_model_name": "DescriptionStyleModel",
            "_view_count": null,
            "_view_module": "@jupyter-widgets/base",
            "_view_module_version": "1.2.0",
            "_view_name": "StyleView",
            "description_width": ""
          }
        },
        "03d984b187384d4d946dcd8d2f4be8c9": {
          "model_module": "@jupyter-widgets/base",
          "model_name": "LayoutModel",
          "model_module_version": "1.2.0",
          "state": {
            "_model_module": "@jupyter-widgets/base",
            "_model_module_version": "1.2.0",
            "_model_name": "LayoutModel",
            "_view_count": null,
            "_view_module": "@jupyter-widgets/base",
            "_view_module_version": "1.2.0",
            "_view_name": "LayoutView",
            "align_content": null,
            "align_items": null,
            "align_self": null,
            "border": null,
            "bottom": null,
            "display": null,
            "flex": null,
            "flex_flow": null,
            "grid_area": null,
            "grid_auto_columns": null,
            "grid_auto_flow": null,
            "grid_auto_rows": null,
            "grid_column": null,
            "grid_gap": null,
            "grid_row": null,
            "grid_template_areas": null,
            "grid_template_columns": null,
            "grid_template_rows": null,
            "height": null,
            "justify_content": null,
            "justify_items": null,
            "left": null,
            "margin": null,
            "max_height": null,
            "max_width": null,
            "min_height": null,
            "min_width": null,
            "object_fit": null,
            "object_position": null,
            "order": null,
            "overflow": null,
            "overflow_x": null,
            "overflow_y": null,
            "padding": null,
            "right": null,
            "top": null,
            "visibility": null,
            "width": null
          }
        },
        "eac7269b700a4478a8469d7a9d550830": {
          "model_module": "@jupyter-widgets/controls",
          "model_name": "ProgressStyleModel",
          "model_module_version": "1.5.0",
          "state": {
            "_model_module": "@jupyter-widgets/controls",
            "_model_module_version": "1.5.0",
            "_model_name": "ProgressStyleModel",
            "_view_count": null,
            "_view_module": "@jupyter-widgets/base",
            "_view_module_version": "1.2.0",
            "_view_name": "StyleView",
            "bar_color": null,
            "description_width": ""
          }
        },
        "1a4b7b2655aa40e1b36d4d97257b96a8": {
          "model_module": "@jupyter-widgets/base",
          "model_name": "LayoutModel",
          "model_module_version": "1.2.0",
          "state": {
            "_model_module": "@jupyter-widgets/base",
            "_model_module_version": "1.2.0",
            "_model_name": "LayoutModel",
            "_view_count": null,
            "_view_module": "@jupyter-widgets/base",
            "_view_module_version": "1.2.0",
            "_view_name": "LayoutView",
            "align_content": null,
            "align_items": null,
            "align_self": null,
            "border": null,
            "bottom": null,
            "display": null,
            "flex": null,
            "flex_flow": null,
            "grid_area": null,
            "grid_auto_columns": null,
            "grid_auto_flow": null,
            "grid_auto_rows": null,
            "grid_column": null,
            "grid_gap": null,
            "grid_row": null,
            "grid_template_areas": null,
            "grid_template_columns": null,
            "grid_template_rows": null,
            "height": null,
            "justify_content": null,
            "justify_items": null,
            "left": null,
            "margin": null,
            "max_height": null,
            "max_width": null,
            "min_height": null,
            "min_width": null,
            "object_fit": null,
            "object_position": null,
            "order": null,
            "overflow": null,
            "overflow_x": null,
            "overflow_y": null,
            "padding": null,
            "right": null,
            "top": null,
            "visibility": null,
            "width": null
          }
        },
        "fdb029b479284acc904d1028f222d494": {
          "model_module": "@jupyter-widgets/controls",
          "model_name": "DescriptionStyleModel",
          "model_module_version": "1.5.0",
          "state": {
            "_model_module": "@jupyter-widgets/controls",
            "_model_module_version": "1.5.0",
            "_model_name": "DescriptionStyleModel",
            "_view_count": null,
            "_view_module": "@jupyter-widgets/base",
            "_view_module_version": "1.2.0",
            "_view_name": "StyleView",
            "description_width": ""
          }
        },
        "5949de2ba37a4c44826a9f92afd36a9a": {
          "model_module": "@jupyter-widgets/controls",
          "model_name": "HBoxModel",
          "model_module_version": "1.5.0",
          "state": {
            "_dom_classes": [],
            "_model_module": "@jupyter-widgets/controls",
            "_model_module_version": "1.5.0",
            "_model_name": "HBoxModel",
            "_view_count": null,
            "_view_module": "@jupyter-widgets/controls",
            "_view_module_version": "1.5.0",
            "_view_name": "HBoxView",
            "box_style": "",
            "children": [
              "IPY_MODEL_7c338f4b83ec421d86228f2d86e8dcae",
              "IPY_MODEL_5a3e0b9e8f9b449c8be858e8617abbb1",
              "IPY_MODEL_c48d2755f5384f059bb3305c05f95375"
            ],
            "layout": "IPY_MODEL_ea9bf0b30ed942fd9f9590bf294463bd"
          }
        },
        "7c338f4b83ec421d86228f2d86e8dcae": {
          "model_module": "@jupyter-widgets/controls",
          "model_name": "HTMLModel",
          "model_module_version": "1.5.0",
          "state": {
            "_dom_classes": [],
            "_model_module": "@jupyter-widgets/controls",
            "_model_module_version": "1.5.0",
            "_model_name": "HTMLModel",
            "_view_count": null,
            "_view_module": "@jupyter-widgets/controls",
            "_view_module_version": "1.5.0",
            "_view_name": "HTMLView",
            "description": "",
            "description_tooltip": null,
            "layout": "IPY_MODEL_50dc0b3f0a8c4b03a1354d512f7e8161",
            "placeholder": "​",
            "style": "IPY_MODEL_3ff13e60186f4168bef8effca2baa09c",
            "value": "unsupervised-00000-of-00001.parquet: 100%"
          }
        },
        "5a3e0b9e8f9b449c8be858e8617abbb1": {
          "model_module": "@jupyter-widgets/controls",
          "model_name": "FloatProgressModel",
          "model_module_version": "1.5.0",
          "state": {
            "_dom_classes": [],
            "_model_module": "@jupyter-widgets/controls",
            "_model_module_version": "1.5.0",
            "_model_name": "FloatProgressModel",
            "_view_count": null,
            "_view_module": "@jupyter-widgets/controls",
            "_view_module_version": "1.5.0",
            "_view_name": "ProgressView",
            "bar_style": "success",
            "description": "",
            "description_tooltip": null,
            "layout": "IPY_MODEL_c1a7f1ca3a1845c4a4ceb999028939f4",
            "max": 41996509,
            "min": 0,
            "orientation": "horizontal",
            "style": "IPY_MODEL_26014922784d4406a9732f36e39d5c4e",
            "value": 41996509
          }
        },
        "c48d2755f5384f059bb3305c05f95375": {
          "model_module": "@jupyter-widgets/controls",
          "model_name": "HTMLModel",
          "model_module_version": "1.5.0",
          "state": {
            "_dom_classes": [],
            "_model_module": "@jupyter-widgets/controls",
            "_model_module_version": "1.5.0",
            "_model_name": "HTMLModel",
            "_view_count": null,
            "_view_module": "@jupyter-widgets/controls",
            "_view_module_version": "1.5.0",
            "_view_name": "HTMLView",
            "description": "",
            "description_tooltip": null,
            "layout": "IPY_MODEL_8d6ae3ecafcf4623a1a183f6662d0615",
            "placeholder": "​",
            "style": "IPY_MODEL_dc3a0b0a717e4318a17f60acefe4ae77",
            "value": " 42.0M/42.0M [00:00&lt;00:00, 67.4MB/s]"
          }
        },
        "ea9bf0b30ed942fd9f9590bf294463bd": {
          "model_module": "@jupyter-widgets/base",
          "model_name": "LayoutModel",
          "model_module_version": "1.2.0",
          "state": {
            "_model_module": "@jupyter-widgets/base",
            "_model_module_version": "1.2.0",
            "_model_name": "LayoutModel",
            "_view_count": null,
            "_view_module": "@jupyter-widgets/base",
            "_view_module_version": "1.2.0",
            "_view_name": "LayoutView",
            "align_content": null,
            "align_items": null,
            "align_self": null,
            "border": null,
            "bottom": null,
            "display": null,
            "flex": null,
            "flex_flow": null,
            "grid_area": null,
            "grid_auto_columns": null,
            "grid_auto_flow": null,
            "grid_auto_rows": null,
            "grid_column": null,
            "grid_gap": null,
            "grid_row": null,
            "grid_template_areas": null,
            "grid_template_columns": null,
            "grid_template_rows": null,
            "height": null,
            "justify_content": null,
            "justify_items": null,
            "left": null,
            "margin": null,
            "max_height": null,
            "max_width": null,
            "min_height": null,
            "min_width": null,
            "object_fit": null,
            "object_position": null,
            "order": null,
            "overflow": null,
            "overflow_x": null,
            "overflow_y": null,
            "padding": null,
            "right": null,
            "top": null,
            "visibility": null,
            "width": null
          }
        },
        "50dc0b3f0a8c4b03a1354d512f7e8161": {
          "model_module": "@jupyter-widgets/base",
          "model_name": "LayoutModel",
          "model_module_version": "1.2.0",
          "state": {
            "_model_module": "@jupyter-widgets/base",
            "_model_module_version": "1.2.0",
            "_model_name": "LayoutModel",
            "_view_count": null,
            "_view_module": "@jupyter-widgets/base",
            "_view_module_version": "1.2.0",
            "_view_name": "LayoutView",
            "align_content": null,
            "align_items": null,
            "align_self": null,
            "border": null,
            "bottom": null,
            "display": null,
            "flex": null,
            "flex_flow": null,
            "grid_area": null,
            "grid_auto_columns": null,
            "grid_auto_flow": null,
            "grid_auto_rows": null,
            "grid_column": null,
            "grid_gap": null,
            "grid_row": null,
            "grid_template_areas": null,
            "grid_template_columns": null,
            "grid_template_rows": null,
            "height": null,
            "justify_content": null,
            "justify_items": null,
            "left": null,
            "margin": null,
            "max_height": null,
            "max_width": null,
            "min_height": null,
            "min_width": null,
            "object_fit": null,
            "object_position": null,
            "order": null,
            "overflow": null,
            "overflow_x": null,
            "overflow_y": null,
            "padding": null,
            "right": null,
            "top": null,
            "visibility": null,
            "width": null
          }
        },
        "3ff13e60186f4168bef8effca2baa09c": {
          "model_module": "@jupyter-widgets/controls",
          "model_name": "DescriptionStyleModel",
          "model_module_version": "1.5.0",
          "state": {
            "_model_module": "@jupyter-widgets/controls",
            "_model_module_version": "1.5.0",
            "_model_name": "DescriptionStyleModel",
            "_view_count": null,
            "_view_module": "@jupyter-widgets/base",
            "_view_module_version": "1.2.0",
            "_view_name": "StyleView",
            "description_width": ""
          }
        },
        "c1a7f1ca3a1845c4a4ceb999028939f4": {
          "model_module": "@jupyter-widgets/base",
          "model_name": "LayoutModel",
          "model_module_version": "1.2.0",
          "state": {
            "_model_module": "@jupyter-widgets/base",
            "_model_module_version": "1.2.0",
            "_model_name": "LayoutModel",
            "_view_count": null,
            "_view_module": "@jupyter-widgets/base",
            "_view_module_version": "1.2.0",
            "_view_name": "LayoutView",
            "align_content": null,
            "align_items": null,
            "align_self": null,
            "border": null,
            "bottom": null,
            "display": null,
            "flex": null,
            "flex_flow": null,
            "grid_area": null,
            "grid_auto_columns": null,
            "grid_auto_flow": null,
            "grid_auto_rows": null,
            "grid_column": null,
            "grid_gap": null,
            "grid_row": null,
            "grid_template_areas": null,
            "grid_template_columns": null,
            "grid_template_rows": null,
            "height": null,
            "justify_content": null,
            "justify_items": null,
            "left": null,
            "margin": null,
            "max_height": null,
            "max_width": null,
            "min_height": null,
            "min_width": null,
            "object_fit": null,
            "object_position": null,
            "order": null,
            "overflow": null,
            "overflow_x": null,
            "overflow_y": null,
            "padding": null,
            "right": null,
            "top": null,
            "visibility": null,
            "width": null
          }
        },
        "26014922784d4406a9732f36e39d5c4e": {
          "model_module": "@jupyter-widgets/controls",
          "model_name": "ProgressStyleModel",
          "model_module_version": "1.5.0",
          "state": {
            "_model_module": "@jupyter-widgets/controls",
            "_model_module_version": "1.5.0",
            "_model_name": "ProgressStyleModel",
            "_view_count": null,
            "_view_module": "@jupyter-widgets/base",
            "_view_module_version": "1.2.0",
            "_view_name": "StyleView",
            "bar_color": null,
            "description_width": ""
          }
        },
        "8d6ae3ecafcf4623a1a183f6662d0615": {
          "model_module": "@jupyter-widgets/base",
          "model_name": "LayoutModel",
          "model_module_version": "1.2.0",
          "state": {
            "_model_module": "@jupyter-widgets/base",
            "_model_module_version": "1.2.0",
            "_model_name": "LayoutModel",
            "_view_count": null,
            "_view_module": "@jupyter-widgets/base",
            "_view_module_version": "1.2.0",
            "_view_name": "LayoutView",
            "align_content": null,
            "align_items": null,
            "align_self": null,
            "border": null,
            "bottom": null,
            "display": null,
            "flex": null,
            "flex_flow": null,
            "grid_area": null,
            "grid_auto_columns": null,
            "grid_auto_flow": null,
            "grid_auto_rows": null,
            "grid_column": null,
            "grid_gap": null,
            "grid_row": null,
            "grid_template_areas": null,
            "grid_template_columns": null,
            "grid_template_rows": null,
            "height": null,
            "justify_content": null,
            "justify_items": null,
            "left": null,
            "margin": null,
            "max_height": null,
            "max_width": null,
            "min_height": null,
            "min_width": null,
            "object_fit": null,
            "object_position": null,
            "order": null,
            "overflow": null,
            "overflow_x": null,
            "overflow_y": null,
            "padding": null,
            "right": null,
            "top": null,
            "visibility": null,
            "width": null
          }
        },
        "dc3a0b0a717e4318a17f60acefe4ae77": {
          "model_module": "@jupyter-widgets/controls",
          "model_name": "DescriptionStyleModel",
          "model_module_version": "1.5.0",
          "state": {
            "_model_module": "@jupyter-widgets/controls",
            "_model_module_version": "1.5.0",
            "_model_name": "DescriptionStyleModel",
            "_view_count": null,
            "_view_module": "@jupyter-widgets/base",
            "_view_module_version": "1.2.0",
            "_view_name": "StyleView",
            "description_width": ""
          }
        },
        "60e9966a9d7b44b8a7b881394821e035": {
          "model_module": "@jupyter-widgets/controls",
          "model_name": "HBoxModel",
          "model_module_version": "1.5.0",
          "state": {
            "_dom_classes": [],
            "_model_module": "@jupyter-widgets/controls",
            "_model_module_version": "1.5.0",
            "_model_name": "HBoxModel",
            "_view_count": null,
            "_view_module": "@jupyter-widgets/controls",
            "_view_module_version": "1.5.0",
            "_view_name": "HBoxView",
            "box_style": "",
            "children": [
              "IPY_MODEL_fdd0fc07e15a48e78b5b59d983ea339c",
              "IPY_MODEL_f4e3ad6be3124542a83c5d6482fe5463",
              "IPY_MODEL_5b0ae65c1edd46ed84917d5b7c7eb5d5"
            ],
            "layout": "IPY_MODEL_44c8503ea6254dfdb741c5f2dd32edc4"
          }
        },
        "fdd0fc07e15a48e78b5b59d983ea339c": {
          "model_module": "@jupyter-widgets/controls",
          "model_name": "HTMLModel",
          "model_module_version": "1.5.0",
          "state": {
            "_dom_classes": [],
            "_model_module": "@jupyter-widgets/controls",
            "_model_module_version": "1.5.0",
            "_model_name": "HTMLModel",
            "_view_count": null,
            "_view_module": "@jupyter-widgets/controls",
            "_view_module_version": "1.5.0",
            "_view_name": "HTMLView",
            "description": "",
            "description_tooltip": null,
            "layout": "IPY_MODEL_128fd6c25ef248c59d5845b40eb0f272",
            "placeholder": "​",
            "style": "IPY_MODEL_29a3c64244884dfd825424bbf66f218f",
            "value": "Generating train split: 100%"
          }
        },
        "f4e3ad6be3124542a83c5d6482fe5463": {
          "model_module": "@jupyter-widgets/controls",
          "model_name": "FloatProgressModel",
          "model_module_version": "1.5.0",
          "state": {
            "_dom_classes": [],
            "_model_module": "@jupyter-widgets/controls",
            "_model_module_version": "1.5.0",
            "_model_name": "FloatProgressModel",
            "_view_count": null,
            "_view_module": "@jupyter-widgets/controls",
            "_view_module_version": "1.5.0",
            "_view_name": "ProgressView",
            "bar_style": "success",
            "description": "",
            "description_tooltip": null,
            "layout": "IPY_MODEL_0cddf53b7d624066a7ba26ac48711c3b",
            "max": 25000,
            "min": 0,
            "orientation": "horizontal",
            "style": "IPY_MODEL_199f43a17e96425b8ce2e1740c9202ac",
            "value": 25000
          }
        },
        "5b0ae65c1edd46ed84917d5b7c7eb5d5": {
          "model_module": "@jupyter-widgets/controls",
          "model_name": "HTMLModel",
          "model_module_version": "1.5.0",
          "state": {
            "_dom_classes": [],
            "_model_module": "@jupyter-widgets/controls",
            "_model_module_version": "1.5.0",
            "_model_name": "HTMLModel",
            "_view_count": null,
            "_view_module": "@jupyter-widgets/controls",
            "_view_module_version": "1.5.0",
            "_view_name": "HTMLView",
            "description": "",
            "description_tooltip": null,
            "layout": "IPY_MODEL_fb46ca5c581e4e4096ba0c65d56818ef",
            "placeholder": "​",
            "style": "IPY_MODEL_9c5099a61ef04493ab8e7d729ec353b5",
            "value": " 25000/25000 [00:00&lt;00:00, 32077.82 examples/s]"
          }
        },
        "44c8503ea6254dfdb741c5f2dd32edc4": {
          "model_module": "@jupyter-widgets/base",
          "model_name": "LayoutModel",
          "model_module_version": "1.2.0",
          "state": {
            "_model_module": "@jupyter-widgets/base",
            "_model_module_version": "1.2.0",
            "_model_name": "LayoutModel",
            "_view_count": null,
            "_view_module": "@jupyter-widgets/base",
            "_view_module_version": "1.2.0",
            "_view_name": "LayoutView",
            "align_content": null,
            "align_items": null,
            "align_self": null,
            "border": null,
            "bottom": null,
            "display": null,
            "flex": null,
            "flex_flow": null,
            "grid_area": null,
            "grid_auto_columns": null,
            "grid_auto_flow": null,
            "grid_auto_rows": null,
            "grid_column": null,
            "grid_gap": null,
            "grid_row": null,
            "grid_template_areas": null,
            "grid_template_columns": null,
            "grid_template_rows": null,
            "height": null,
            "justify_content": null,
            "justify_items": null,
            "left": null,
            "margin": null,
            "max_height": null,
            "max_width": null,
            "min_height": null,
            "min_width": null,
            "object_fit": null,
            "object_position": null,
            "order": null,
            "overflow": null,
            "overflow_x": null,
            "overflow_y": null,
            "padding": null,
            "right": null,
            "top": null,
            "visibility": null,
            "width": null
          }
        },
        "128fd6c25ef248c59d5845b40eb0f272": {
          "model_module": "@jupyter-widgets/base",
          "model_name": "LayoutModel",
          "model_module_version": "1.2.0",
          "state": {
            "_model_module": "@jupyter-widgets/base",
            "_model_module_version": "1.2.0",
            "_model_name": "LayoutModel",
            "_view_count": null,
            "_view_module": "@jupyter-widgets/base",
            "_view_module_version": "1.2.0",
            "_view_name": "LayoutView",
            "align_content": null,
            "align_items": null,
            "align_self": null,
            "border": null,
            "bottom": null,
            "display": null,
            "flex": null,
            "flex_flow": null,
            "grid_area": null,
            "grid_auto_columns": null,
            "grid_auto_flow": null,
            "grid_auto_rows": null,
            "grid_column": null,
            "grid_gap": null,
            "grid_row": null,
            "grid_template_areas": null,
            "grid_template_columns": null,
            "grid_template_rows": null,
            "height": null,
            "justify_content": null,
            "justify_items": null,
            "left": null,
            "margin": null,
            "max_height": null,
            "max_width": null,
            "min_height": null,
            "min_width": null,
            "object_fit": null,
            "object_position": null,
            "order": null,
            "overflow": null,
            "overflow_x": null,
            "overflow_y": null,
            "padding": null,
            "right": null,
            "top": null,
            "visibility": null,
            "width": null
          }
        },
        "29a3c64244884dfd825424bbf66f218f": {
          "model_module": "@jupyter-widgets/controls",
          "model_name": "DescriptionStyleModel",
          "model_module_version": "1.5.0",
          "state": {
            "_model_module": "@jupyter-widgets/controls",
            "_model_module_version": "1.5.0",
            "_model_name": "DescriptionStyleModel",
            "_view_count": null,
            "_view_module": "@jupyter-widgets/base",
            "_view_module_version": "1.2.0",
            "_view_name": "StyleView",
            "description_width": ""
          }
        },
        "0cddf53b7d624066a7ba26ac48711c3b": {
          "model_module": "@jupyter-widgets/base",
          "model_name": "LayoutModel",
          "model_module_version": "1.2.0",
          "state": {
            "_model_module": "@jupyter-widgets/base",
            "_model_module_version": "1.2.0",
            "_model_name": "LayoutModel",
            "_view_count": null,
            "_view_module": "@jupyter-widgets/base",
            "_view_module_version": "1.2.0",
            "_view_name": "LayoutView",
            "align_content": null,
            "align_items": null,
            "align_self": null,
            "border": null,
            "bottom": null,
            "display": null,
            "flex": null,
            "flex_flow": null,
            "grid_area": null,
            "grid_auto_columns": null,
            "grid_auto_flow": null,
            "grid_auto_rows": null,
            "grid_column": null,
            "grid_gap": null,
            "grid_row": null,
            "grid_template_areas": null,
            "grid_template_columns": null,
            "grid_template_rows": null,
            "height": null,
            "justify_content": null,
            "justify_items": null,
            "left": null,
            "margin": null,
            "max_height": null,
            "max_width": null,
            "min_height": null,
            "min_width": null,
            "object_fit": null,
            "object_position": null,
            "order": null,
            "overflow": null,
            "overflow_x": null,
            "overflow_y": null,
            "padding": null,
            "right": null,
            "top": null,
            "visibility": null,
            "width": null
          }
        },
        "199f43a17e96425b8ce2e1740c9202ac": {
          "model_module": "@jupyter-widgets/controls",
          "model_name": "ProgressStyleModel",
          "model_module_version": "1.5.0",
          "state": {
            "_model_module": "@jupyter-widgets/controls",
            "_model_module_version": "1.5.0",
            "_model_name": "ProgressStyleModel",
            "_view_count": null,
            "_view_module": "@jupyter-widgets/base",
            "_view_module_version": "1.2.0",
            "_view_name": "StyleView",
            "bar_color": null,
            "description_width": ""
          }
        },
        "fb46ca5c581e4e4096ba0c65d56818ef": {
          "model_module": "@jupyter-widgets/base",
          "model_name": "LayoutModel",
          "model_module_version": "1.2.0",
          "state": {
            "_model_module": "@jupyter-widgets/base",
            "_model_module_version": "1.2.0",
            "_model_name": "LayoutModel",
            "_view_count": null,
            "_view_module": "@jupyter-widgets/base",
            "_view_module_version": "1.2.0",
            "_view_name": "LayoutView",
            "align_content": null,
            "align_items": null,
            "align_self": null,
            "border": null,
            "bottom": null,
            "display": null,
            "flex": null,
            "flex_flow": null,
            "grid_area": null,
            "grid_auto_columns": null,
            "grid_auto_flow": null,
            "grid_auto_rows": null,
            "grid_column": null,
            "grid_gap": null,
            "grid_row": null,
            "grid_template_areas": null,
            "grid_template_columns": null,
            "grid_template_rows": null,
            "height": null,
            "justify_content": null,
            "justify_items": null,
            "left": null,
            "margin": null,
            "max_height": null,
            "max_width": null,
            "min_height": null,
            "min_width": null,
            "object_fit": null,
            "object_position": null,
            "order": null,
            "overflow": null,
            "overflow_x": null,
            "overflow_y": null,
            "padding": null,
            "right": null,
            "top": null,
            "visibility": null,
            "width": null
          }
        },
        "9c5099a61ef04493ab8e7d729ec353b5": {
          "model_module": "@jupyter-widgets/controls",
          "model_name": "DescriptionStyleModel",
          "model_module_version": "1.5.0",
          "state": {
            "_model_module": "@jupyter-widgets/controls",
            "_model_module_version": "1.5.0",
            "_model_name": "DescriptionStyleModel",
            "_view_count": null,
            "_view_module": "@jupyter-widgets/base",
            "_view_module_version": "1.2.0",
            "_view_name": "StyleView",
            "description_width": ""
          }
        },
        "cfc6eb95f9d740219512fc4ea8fd7f97": {
          "model_module": "@jupyter-widgets/controls",
          "model_name": "HBoxModel",
          "model_module_version": "1.5.0",
          "state": {
            "_dom_classes": [],
            "_model_module": "@jupyter-widgets/controls",
            "_model_module_version": "1.5.0",
            "_model_name": "HBoxModel",
            "_view_count": null,
            "_view_module": "@jupyter-widgets/controls",
            "_view_module_version": "1.5.0",
            "_view_name": "HBoxView",
            "box_style": "",
            "children": [
              "IPY_MODEL_3c36e84082f14d15bdea365356a1a268",
              "IPY_MODEL_1052a759a1454ea38a3932e0ce6cc957",
              "IPY_MODEL_0532e04206e34f85870606e2c7bee16b"
            ],
            "layout": "IPY_MODEL_60febd1d88bf41009ce1472b59c7baad"
          }
        },
        "3c36e84082f14d15bdea365356a1a268": {
          "model_module": "@jupyter-widgets/controls",
          "model_name": "HTMLModel",
          "model_module_version": "1.5.0",
          "state": {
            "_dom_classes": [],
            "_model_module": "@jupyter-widgets/controls",
            "_model_module_version": "1.5.0",
            "_model_name": "HTMLModel",
            "_view_count": null,
            "_view_module": "@jupyter-widgets/controls",
            "_view_module_version": "1.5.0",
            "_view_name": "HTMLView",
            "description": "",
            "description_tooltip": null,
            "layout": "IPY_MODEL_35cd4da8cff848ff9c25d3b822c76663",
            "placeholder": "​",
            "style": "IPY_MODEL_c0e69a32f3c54ad0ae2d4227ce3cb450",
            "value": "Generating test split: 100%"
          }
        },
        "1052a759a1454ea38a3932e0ce6cc957": {
          "model_module": "@jupyter-widgets/controls",
          "model_name": "FloatProgressModel",
          "model_module_version": "1.5.0",
          "state": {
            "_dom_classes": [],
            "_model_module": "@jupyter-widgets/controls",
            "_model_module_version": "1.5.0",
            "_model_name": "FloatProgressModel",
            "_view_count": null,
            "_view_module": "@jupyter-widgets/controls",
            "_view_module_version": "1.5.0",
            "_view_name": "ProgressView",
            "bar_style": "success",
            "description": "",
            "description_tooltip": null,
            "layout": "IPY_MODEL_3aeca80c778d4c32ab72aa20dd7d7587",
            "max": 25000,
            "min": 0,
            "orientation": "horizontal",
            "style": "IPY_MODEL_f3436675698f41ea85af6c88512ad11a",
            "value": 25000
          }
        },
        "0532e04206e34f85870606e2c7bee16b": {
          "model_module": "@jupyter-widgets/controls",
          "model_name": "HTMLModel",
          "model_module_version": "1.5.0",
          "state": {
            "_dom_classes": [],
            "_model_module": "@jupyter-widgets/controls",
            "_model_module_version": "1.5.0",
            "_model_name": "HTMLModel",
            "_view_count": null,
            "_view_module": "@jupyter-widgets/controls",
            "_view_module_version": "1.5.0",
            "_view_name": "HTMLView",
            "description": "",
            "description_tooltip": null,
            "layout": "IPY_MODEL_94d47f048f484903b78b440ce62e2e6f",
            "placeholder": "​",
            "style": "IPY_MODEL_4478cb6be37341b3835e8f677150a027",
            "value": " 25000/25000 [00:00&lt;00:00, 45746.98 examples/s]"
          }
        },
        "60febd1d88bf41009ce1472b59c7baad": {
          "model_module": "@jupyter-widgets/base",
          "model_name": "LayoutModel",
          "model_module_version": "1.2.0",
          "state": {
            "_model_module": "@jupyter-widgets/base",
            "_model_module_version": "1.2.0",
            "_model_name": "LayoutModel",
            "_view_count": null,
            "_view_module": "@jupyter-widgets/base",
            "_view_module_version": "1.2.0",
            "_view_name": "LayoutView",
            "align_content": null,
            "align_items": null,
            "align_self": null,
            "border": null,
            "bottom": null,
            "display": null,
            "flex": null,
            "flex_flow": null,
            "grid_area": null,
            "grid_auto_columns": null,
            "grid_auto_flow": null,
            "grid_auto_rows": null,
            "grid_column": null,
            "grid_gap": null,
            "grid_row": null,
            "grid_template_areas": null,
            "grid_template_columns": null,
            "grid_template_rows": null,
            "height": null,
            "justify_content": null,
            "justify_items": null,
            "left": null,
            "margin": null,
            "max_height": null,
            "max_width": null,
            "min_height": null,
            "min_width": null,
            "object_fit": null,
            "object_position": null,
            "order": null,
            "overflow": null,
            "overflow_x": null,
            "overflow_y": null,
            "padding": null,
            "right": null,
            "top": null,
            "visibility": null,
            "width": null
          }
        },
        "35cd4da8cff848ff9c25d3b822c76663": {
          "model_module": "@jupyter-widgets/base",
          "model_name": "LayoutModel",
          "model_module_version": "1.2.0",
          "state": {
            "_model_module": "@jupyter-widgets/base",
            "_model_module_version": "1.2.0",
            "_model_name": "LayoutModel",
            "_view_count": null,
            "_view_module": "@jupyter-widgets/base",
            "_view_module_version": "1.2.0",
            "_view_name": "LayoutView",
            "align_content": null,
            "align_items": null,
            "align_self": null,
            "border": null,
            "bottom": null,
            "display": null,
            "flex": null,
            "flex_flow": null,
            "grid_area": null,
            "grid_auto_columns": null,
            "grid_auto_flow": null,
            "grid_auto_rows": null,
            "grid_column": null,
            "grid_gap": null,
            "grid_row": null,
            "grid_template_areas": null,
            "grid_template_columns": null,
            "grid_template_rows": null,
            "height": null,
            "justify_content": null,
            "justify_items": null,
            "left": null,
            "margin": null,
            "max_height": null,
            "max_width": null,
            "min_height": null,
            "min_width": null,
            "object_fit": null,
            "object_position": null,
            "order": null,
            "overflow": null,
            "overflow_x": null,
            "overflow_y": null,
            "padding": null,
            "right": null,
            "top": null,
            "visibility": null,
            "width": null
          }
        },
        "c0e69a32f3c54ad0ae2d4227ce3cb450": {
          "model_module": "@jupyter-widgets/controls",
          "model_name": "DescriptionStyleModel",
          "model_module_version": "1.5.0",
          "state": {
            "_model_module": "@jupyter-widgets/controls",
            "_model_module_version": "1.5.0",
            "_model_name": "DescriptionStyleModel",
            "_view_count": null,
            "_view_module": "@jupyter-widgets/base",
            "_view_module_version": "1.2.0",
            "_view_name": "StyleView",
            "description_width": ""
          }
        },
        "3aeca80c778d4c32ab72aa20dd7d7587": {
          "model_module": "@jupyter-widgets/base",
          "model_name": "LayoutModel",
          "model_module_version": "1.2.0",
          "state": {
            "_model_module": "@jupyter-widgets/base",
            "_model_module_version": "1.2.0",
            "_model_name": "LayoutModel",
            "_view_count": null,
            "_view_module": "@jupyter-widgets/base",
            "_view_module_version": "1.2.0",
            "_view_name": "LayoutView",
            "align_content": null,
            "align_items": null,
            "align_self": null,
            "border": null,
            "bottom": null,
            "display": null,
            "flex": null,
            "flex_flow": null,
            "grid_area": null,
            "grid_auto_columns": null,
            "grid_auto_flow": null,
            "grid_auto_rows": null,
            "grid_column": null,
            "grid_gap": null,
            "grid_row": null,
            "grid_template_areas": null,
            "grid_template_columns": null,
            "grid_template_rows": null,
            "height": null,
            "justify_content": null,
            "justify_items": null,
            "left": null,
            "margin": null,
            "max_height": null,
            "max_width": null,
            "min_height": null,
            "min_width": null,
            "object_fit": null,
            "object_position": null,
            "order": null,
            "overflow": null,
            "overflow_x": null,
            "overflow_y": null,
            "padding": null,
            "right": null,
            "top": null,
            "visibility": null,
            "width": null
          }
        },
        "f3436675698f41ea85af6c88512ad11a": {
          "model_module": "@jupyter-widgets/controls",
          "model_name": "ProgressStyleModel",
          "model_module_version": "1.5.0",
          "state": {
            "_model_module": "@jupyter-widgets/controls",
            "_model_module_version": "1.5.0",
            "_model_name": "ProgressStyleModel",
            "_view_count": null,
            "_view_module": "@jupyter-widgets/base",
            "_view_module_version": "1.2.0",
            "_view_name": "StyleView",
            "bar_color": null,
            "description_width": ""
          }
        },
        "94d47f048f484903b78b440ce62e2e6f": {
          "model_module": "@jupyter-widgets/base",
          "model_name": "LayoutModel",
          "model_module_version": "1.2.0",
          "state": {
            "_model_module": "@jupyter-widgets/base",
            "_model_module_version": "1.2.0",
            "_model_name": "LayoutModel",
            "_view_count": null,
            "_view_module": "@jupyter-widgets/base",
            "_view_module_version": "1.2.0",
            "_view_name": "LayoutView",
            "align_content": null,
            "align_items": null,
            "align_self": null,
            "border": null,
            "bottom": null,
            "display": null,
            "flex": null,
            "flex_flow": null,
            "grid_area": null,
            "grid_auto_columns": null,
            "grid_auto_flow": null,
            "grid_auto_rows": null,
            "grid_column": null,
            "grid_gap": null,
            "grid_row": null,
            "grid_template_areas": null,
            "grid_template_columns": null,
            "grid_template_rows": null,
            "height": null,
            "justify_content": null,
            "justify_items": null,
            "left": null,
            "margin": null,
            "max_height": null,
            "max_width": null,
            "min_height": null,
            "min_width": null,
            "object_fit": null,
            "object_position": null,
            "order": null,
            "overflow": null,
            "overflow_x": null,
            "overflow_y": null,
            "padding": null,
            "right": null,
            "top": null,
            "visibility": null,
            "width": null
          }
        },
        "4478cb6be37341b3835e8f677150a027": {
          "model_module": "@jupyter-widgets/controls",
          "model_name": "DescriptionStyleModel",
          "model_module_version": "1.5.0",
          "state": {
            "_model_module": "@jupyter-widgets/controls",
            "_model_module_version": "1.5.0",
            "_model_name": "DescriptionStyleModel",
            "_view_count": null,
            "_view_module": "@jupyter-widgets/base",
            "_view_module_version": "1.2.0",
            "_view_name": "StyleView",
            "description_width": ""
          }
        },
        "36679a3ec84b4d51b357e36677da0dd0": {
          "model_module": "@jupyter-widgets/controls",
          "model_name": "HBoxModel",
          "model_module_version": "1.5.0",
          "state": {
            "_dom_classes": [],
            "_model_module": "@jupyter-widgets/controls",
            "_model_module_version": "1.5.0",
            "_model_name": "HBoxModel",
            "_view_count": null,
            "_view_module": "@jupyter-widgets/controls",
            "_view_module_version": "1.5.0",
            "_view_name": "HBoxView",
            "box_style": "",
            "children": [
              "IPY_MODEL_2eeb07177be14bd4a113ac56982d1b2b",
              "IPY_MODEL_6e1fbd5dbe584f1dbc4b3267b7c7345f",
              "IPY_MODEL_f995a273f03040e4925d8b1311cfab44"
            ],
            "layout": "IPY_MODEL_dd03a4785f1248c086248e43ada4f126"
          }
        },
        "2eeb07177be14bd4a113ac56982d1b2b": {
          "model_module": "@jupyter-widgets/controls",
          "model_name": "HTMLModel",
          "model_module_version": "1.5.0",
          "state": {
            "_dom_classes": [],
            "_model_module": "@jupyter-widgets/controls",
            "_model_module_version": "1.5.0",
            "_model_name": "HTMLModel",
            "_view_count": null,
            "_view_module": "@jupyter-widgets/controls",
            "_view_module_version": "1.5.0",
            "_view_name": "HTMLView",
            "description": "",
            "description_tooltip": null,
            "layout": "IPY_MODEL_f9f19009a01d4c81b3dea7c6913802b9",
            "placeholder": "​",
            "style": "IPY_MODEL_62094f818f864223b512a15ec352106d",
            "value": "Generating unsupervised split: 100%"
          }
        },
        "6e1fbd5dbe584f1dbc4b3267b7c7345f": {
          "model_module": "@jupyter-widgets/controls",
          "model_name": "FloatProgressModel",
          "model_module_version": "1.5.0",
          "state": {
            "_dom_classes": [],
            "_model_module": "@jupyter-widgets/controls",
            "_model_module_version": "1.5.0",
            "_model_name": "FloatProgressModel",
            "_view_count": null,
            "_view_module": "@jupyter-widgets/controls",
            "_view_module_version": "1.5.0",
            "_view_name": "ProgressView",
            "bar_style": "success",
            "description": "",
            "description_tooltip": null,
            "layout": "IPY_MODEL_67d5271a3ef14e1cb5281375d62fa60a",
            "max": 50000,
            "min": 0,
            "orientation": "horizontal",
            "style": "IPY_MODEL_aef7900a59be4a61a14372e422e7a8fe",
            "value": 50000
          }
        },
        "f995a273f03040e4925d8b1311cfab44": {
          "model_module": "@jupyter-widgets/controls",
          "model_name": "HTMLModel",
          "model_module_version": "1.5.0",
          "state": {
            "_dom_classes": [],
            "_model_module": "@jupyter-widgets/controls",
            "_model_module_version": "1.5.0",
            "_model_name": "HTMLModel",
            "_view_count": null,
            "_view_module": "@jupyter-widgets/controls",
            "_view_module_version": "1.5.0",
            "_view_name": "HTMLView",
            "description": "",
            "description_tooltip": null,
            "layout": "IPY_MODEL_ef9c824df99442b89707fcfa0e168615",
            "placeholder": "​",
            "style": "IPY_MODEL_f06004e91a9649d392767de8fceee60f",
            "value": " 50000/50000 [00:01&lt;00:00, 65138.80 examples/s]"
          }
        },
        "dd03a4785f1248c086248e43ada4f126": {
          "model_module": "@jupyter-widgets/base",
          "model_name": "LayoutModel",
          "model_module_version": "1.2.0",
          "state": {
            "_model_module": "@jupyter-widgets/base",
            "_model_module_version": "1.2.0",
            "_model_name": "LayoutModel",
            "_view_count": null,
            "_view_module": "@jupyter-widgets/base",
            "_view_module_version": "1.2.0",
            "_view_name": "LayoutView",
            "align_content": null,
            "align_items": null,
            "align_self": null,
            "border": null,
            "bottom": null,
            "display": null,
            "flex": null,
            "flex_flow": null,
            "grid_area": null,
            "grid_auto_columns": null,
            "grid_auto_flow": null,
            "grid_auto_rows": null,
            "grid_column": null,
            "grid_gap": null,
            "grid_row": null,
            "grid_template_areas": null,
            "grid_template_columns": null,
            "grid_template_rows": null,
            "height": null,
            "justify_content": null,
            "justify_items": null,
            "left": null,
            "margin": null,
            "max_height": null,
            "max_width": null,
            "min_height": null,
            "min_width": null,
            "object_fit": null,
            "object_position": null,
            "order": null,
            "overflow": null,
            "overflow_x": null,
            "overflow_y": null,
            "padding": null,
            "right": null,
            "top": null,
            "visibility": null,
            "width": null
          }
        },
        "f9f19009a01d4c81b3dea7c6913802b9": {
          "model_module": "@jupyter-widgets/base",
          "model_name": "LayoutModel",
          "model_module_version": "1.2.0",
          "state": {
            "_model_module": "@jupyter-widgets/base",
            "_model_module_version": "1.2.0",
            "_model_name": "LayoutModel",
            "_view_count": null,
            "_view_module": "@jupyter-widgets/base",
            "_view_module_version": "1.2.0",
            "_view_name": "LayoutView",
            "align_content": null,
            "align_items": null,
            "align_self": null,
            "border": null,
            "bottom": null,
            "display": null,
            "flex": null,
            "flex_flow": null,
            "grid_area": null,
            "grid_auto_columns": null,
            "grid_auto_flow": null,
            "grid_auto_rows": null,
            "grid_column": null,
            "grid_gap": null,
            "grid_row": null,
            "grid_template_areas": null,
            "grid_template_columns": null,
            "grid_template_rows": null,
            "height": null,
            "justify_content": null,
            "justify_items": null,
            "left": null,
            "margin": null,
            "max_height": null,
            "max_width": null,
            "min_height": null,
            "min_width": null,
            "object_fit": null,
            "object_position": null,
            "order": null,
            "overflow": null,
            "overflow_x": null,
            "overflow_y": null,
            "padding": null,
            "right": null,
            "top": null,
            "visibility": null,
            "width": null
          }
        },
        "62094f818f864223b512a15ec352106d": {
          "model_module": "@jupyter-widgets/controls",
          "model_name": "DescriptionStyleModel",
          "model_module_version": "1.5.0",
          "state": {
            "_model_module": "@jupyter-widgets/controls",
            "_model_module_version": "1.5.0",
            "_model_name": "DescriptionStyleModel",
            "_view_count": null,
            "_view_module": "@jupyter-widgets/base",
            "_view_module_version": "1.2.0",
            "_view_name": "StyleView",
            "description_width": ""
          }
        },
        "67d5271a3ef14e1cb5281375d62fa60a": {
          "model_module": "@jupyter-widgets/base",
          "model_name": "LayoutModel",
          "model_module_version": "1.2.0",
          "state": {
            "_model_module": "@jupyter-widgets/base",
            "_model_module_version": "1.2.0",
            "_model_name": "LayoutModel",
            "_view_count": null,
            "_view_module": "@jupyter-widgets/base",
            "_view_module_version": "1.2.0",
            "_view_name": "LayoutView",
            "align_content": null,
            "align_items": null,
            "align_self": null,
            "border": null,
            "bottom": null,
            "display": null,
            "flex": null,
            "flex_flow": null,
            "grid_area": null,
            "grid_auto_columns": null,
            "grid_auto_flow": null,
            "grid_auto_rows": null,
            "grid_column": null,
            "grid_gap": null,
            "grid_row": null,
            "grid_template_areas": null,
            "grid_template_columns": null,
            "grid_template_rows": null,
            "height": null,
            "justify_content": null,
            "justify_items": null,
            "left": null,
            "margin": null,
            "max_height": null,
            "max_width": null,
            "min_height": null,
            "min_width": null,
            "object_fit": null,
            "object_position": null,
            "order": null,
            "overflow": null,
            "overflow_x": null,
            "overflow_y": null,
            "padding": null,
            "right": null,
            "top": null,
            "visibility": null,
            "width": null
          }
        },
        "aef7900a59be4a61a14372e422e7a8fe": {
          "model_module": "@jupyter-widgets/controls",
          "model_name": "ProgressStyleModel",
          "model_module_version": "1.5.0",
          "state": {
            "_model_module": "@jupyter-widgets/controls",
            "_model_module_version": "1.5.0",
            "_model_name": "ProgressStyleModel",
            "_view_count": null,
            "_view_module": "@jupyter-widgets/base",
            "_view_module_version": "1.2.0",
            "_view_name": "StyleView",
            "bar_color": null,
            "description_width": ""
          }
        },
        "ef9c824df99442b89707fcfa0e168615": {
          "model_module": "@jupyter-widgets/base",
          "model_name": "LayoutModel",
          "model_module_version": "1.2.0",
          "state": {
            "_model_module": "@jupyter-widgets/base",
            "_model_module_version": "1.2.0",
            "_model_name": "LayoutModel",
            "_view_count": null,
            "_view_module": "@jupyter-widgets/base",
            "_view_module_version": "1.2.0",
            "_view_name": "LayoutView",
            "align_content": null,
            "align_items": null,
            "align_self": null,
            "border": null,
            "bottom": null,
            "display": null,
            "flex": null,
            "flex_flow": null,
            "grid_area": null,
            "grid_auto_columns": null,
            "grid_auto_flow": null,
            "grid_auto_rows": null,
            "grid_column": null,
            "grid_gap": null,
            "grid_row": null,
            "grid_template_areas": null,
            "grid_template_columns": null,
            "grid_template_rows": null,
            "height": null,
            "justify_content": null,
            "justify_items": null,
            "left": null,
            "margin": null,
            "max_height": null,
            "max_width": null,
            "min_height": null,
            "min_width": null,
            "object_fit": null,
            "object_position": null,
            "order": null,
            "overflow": null,
            "overflow_x": null,
            "overflow_y": null,
            "padding": null,
            "right": null,
            "top": null,
            "visibility": null,
            "width": null
          }
        },
        "f06004e91a9649d392767de8fceee60f": {
          "model_module": "@jupyter-widgets/controls",
          "model_name": "DescriptionStyleModel",
          "model_module_version": "1.5.0",
          "state": {
            "_model_module": "@jupyter-widgets/controls",
            "_model_module_version": "1.5.0",
            "_model_name": "DescriptionStyleModel",
            "_view_count": null,
            "_view_module": "@jupyter-widgets/base",
            "_view_module_version": "1.2.0",
            "_view_name": "StyleView",
            "description_width": ""
          }
        }
      }
    }
  },
  "nbformat": 4,
  "nbformat_minor": 0
}